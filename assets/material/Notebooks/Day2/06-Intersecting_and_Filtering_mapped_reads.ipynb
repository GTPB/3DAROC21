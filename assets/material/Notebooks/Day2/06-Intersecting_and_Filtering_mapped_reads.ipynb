{
 "cells": [
  {
   "cell_type": "markdown",
   "metadata": {},
   "source": [
    "## Intersecting and Filtering mapped reads"
   ]
  },
  {
   "cell_type": "markdown",
   "metadata": {},
   "source": [
    "__running time__: < 10 min\n",
    "\n",
    "To produce the main Hi-C interaction matrix we need to join the two parsed tsv files and keep only pairs of reads that are both mapped.\n",
    "\n",
    "After the intersection of the parsed files the read-ends are filtered in order to keep only informative (valid) pairs."
   ]
  },
  {
   "cell_type": "markdown",
   "metadata": {},
   "source": [
    "The filters available in TADbit are:\n",
    "1. __Self-circle__: both read-ends are mapped to the same RE fragment in *opposed* orientation.\n",
    "2. __Dangling-end__: both read-ends are mapped to the same RE fragment in *facing* orientation.\n",
    "3. __Error__: both read-ends are mapped to the same RE fragment in the same orientation.\n",
    "4. __Extra dangling-end__: the read-ends are mapped to different RE fragments in *facing* orientation, but are close enough (< *max_molecule_length* bp) from the RE cut-site to be considered part of adjacent RE fragments that were not separated by digestion. The *max_molecule_length* parameter can be inferred from the *fragment_size* function previously detailed.\n",
    "5. __Too close from RE sites (or semi-dangling-end)__: the start position of one of the read-end is too close (5 bp by default) from the RE cutting site. \n",
    "6. __Too short__: one of the read-ends is mapped to RE fragments of less than 75bp. These are removed since there is ambiguity on where the read-end is mapped as it could also belong to any of the two neighboring RE fragments.\n",
    "7. __Too large__: the read-ends are mapped to long RE fragments (default: 100 kb, P < 10-5 to occur in a randomized genome) and they likely represent poorly assembled or repetitive regions.\n",
    "8. __Over-represented__: the read-ends coming from the top 0.5% most frequently detected RE fragments, they may represent PCR artefacts, random breaks, or genome assembly errors. \n",
    "9. __PCR artefacts or duplicated__: the combination of the start positions, mapped length, and strands of both read-ends are identical. In this case, only one copy is kept.\n",
    "10. __Random breaks__: the start position of one read-end is too far (> *minimum_distance_to_RE*) from the RE cut-site. These are produced most probably by non-canonical enzyme activity or by random physical breakage of the chromatin. Note, that to filter all these types of fragments the minimum_distance_to_RE parameter should be larger than the *maximum_fragment_length*."
   ]
  },
  {
   "cell_type": "markdown",
   "metadata": {},
   "source": [
    "![Filters](images/Filters.jpeg)"
   ]
  },
  {
   "cell_type": "markdown",
   "metadata": {},
   "source": [
    "With TADbit tools the intersection and filtering steps are conducted with the `tadbit filter` tool. We will use it with the default settings:"
   ]
  },
  {
   "cell_type": "code",
   "execution_count": 1,
   "metadata": {},
   "outputs": [
    {
     "name": "stdout",
     "output_type": "stream",
     "text": [
      "Getting intersection between read 1 and read 2\n",
      "Get insert size...\n",
      "  - median insert size = 144.0\n",
      "  - median absolution of insert size = 50.0\n",
      "  - max insert size (when a gap in continuity of > 10 bp is found in fragment lengths) = 512\n",
      "   Using the maximum continuous fragment size(512 bp) to check for pseudo-dangling ends\n",
      "   Using maximum continuous fragment size plus the MAD (562 bp) to check for random breaks\n",
      "identify pairs to filter...\n",
      "Filtered reads (and percentage of total):\n",
      "\n",
      "                   Mapped both  :   11,070,407 (100.00%)\n",
      "  -----------------------------------------------------\n",
      "   1-               self-circle :       16,432 (  0.15%)\n",
      "   2-              dangling-end :    1,020,603 (  9.22%)\n",
      "   3-                     error :      171,074 (  1.55%)\n",
      "   4-        extra dangling-end :    2,150,926 ( 19.43%)\n",
      "   5-        too close from RES :    2,239,071 ( 20.23%)\n",
      "   6-                 too short :      333,421 (  3.01%)\n",
      "   7-                 too large :          103 (  0.00%)\n",
      "   8-          over-represented :       70,463 (  0.64%)\n",
      "   9-                duplicated :      218,902 (  1.98%)\n",
      "  10-             random breaks :       22,850 (  0.21%)\n",
      "    saving to file 7,427,477 valid reads.\n",
      "144.0 512 50.0\n",
      ",-------.\n",
      "| PATHs |\n",
      ",----.-------.--------------------------------------------------------------------------------.--------------.\n",
      "| Id | JOBid |                                                                           Path |         Type |\n",
      "|----+-------+--------------------------------------------------------------------------------+--------------|\n",
      "|  1 |     1 |                                       /home/3DAROC21/3DAROC21/results/PSC_rep1 |      WORKDIR |\n",
      "|  2 |     1 |                           ../../FASTQs/PSC/PSC_HiC_rep1_subset_chr3_1.fastq.gz | MAPPED_FASTQ |\n",
      "|  3 |     1 |                                                  ../../refGenome/mm39_chr3.gem |        INDEX |\n",
      "|  4 |     1 |                        PSC_HiC_rep1_subset_chr3_1.fastq.gz_MboI_6389769ac5.png |       FIGURE |\n",
      "|  5 |     2 |                        PSC_HiC_rep1_subset_chr3_1.fastq.gz_MboI_e06c0841c2.png |       FIGURE |\n",
      "|  6 |     2 |              01_mapped_r1/PSC_HiC_rep1_subset_chr3_1_full_1-end_e06c0841c2.map |      SAM/MAP |\n",
      "|  7 |     2 |              01_mapped_r1/PSC_HiC_rep1_subset_chr3_1_frag_1-end_e06c0841c2.map |      SAM/MAP |\n",
      "|  8 |     3 |                           ../../FASTQs/PSC/PSC_HiC_rep1_subset_chr3_2.fastq.gz | MAPPED_FASTQ |\n",
      "|  9 |     3 |                        PSC_HiC_rep1_subset_chr3_2.fastq.gz_MboI_dbbd3e8e31.png |       FIGURE |\n",
      "| 10 |     3 |              01_mapped_r2/PSC_HiC_rep1_subset_chr3_2_full_1-end_dbbd3e8e31.map |      SAM/MAP |\n",
      "| 11 |     3 |              01_mapped_r2/PSC_HiC_rep1_subset_chr3_2_frag_1-end_dbbd3e8e31.map |      SAM/MAP |\n",
      "| 12 |     4 |                                     02_parsed_reads/PSC_rep1_r1_ff973af7de.tsv |          BED |\n",
      "| 13 |     4 |                                                   ../../refGenome/mm39_chr3.fa |        FASTA |\n",
      "| 14 |     4 |                                     02_parsed_reads/PSC_rep1_r2_ff973af7de.tsv |          BED |\n",
      "| 15 |     5 |                      03_filtered_reads/valid_r1-r2_intersection_f69652928b.tsv |       2D_BED |\n",
      "| 16 |     5 |                                  03_filtered_reads/intersection_f69652928b.bam |      HIC_BAM |\n",
      "| 17 |     5 |                              03_filtered_reads/intersection_f69652928b.bam.bai |      HIC_BAI |\n",
      "| 18 |     5 |                        03_filtered_reads/all_r1-r2_intersection_f69652928b.tsv |       2D_BED |\n",
      "| 19 |     5 |                                        histogram_fragment_sizes_f69652928b.pdf |       FIGURE |\n",
      "| 20 |     5 |        03_filtered_reads/all_r1-r2_intersection_f69652928b.tsv_self-circle.tsv |       FILTER |\n",
      "| 21 |     5 |       03_filtered_reads/all_r1-r2_intersection_f69652928b.tsv_dangling-end.tsv |       FILTER |\n",
      "| 22 |     5 |              03_filtered_reads/all_r1-r2_intersection_f69652928b.tsv_error.tsv |       FILTER |\n",
      "| 23 |     5 | 03_filtered_reads/all_r1-r2_intersection_f69652928b.tsv_extra_dangling-end.tsv |       FILTER |\n",
      "| 24 |     5 | 03_filtered_reads/all_r1-r2_intersection_f69652928b.tsv_too_close_from_RES.tsv |       FILTER |\n",
      "| 25 |     5 |          03_filtered_reads/all_r1-r2_intersection_f69652928b.tsv_too_short.tsv |       FILTER |\n",
      "| 26 |     5 |          03_filtered_reads/all_r1-r2_intersection_f69652928b.tsv_too_large.tsv |       FILTER |\n",
      "| 27 |     5 |   03_filtered_reads/all_r1-r2_intersection_f69652928b.tsv_over-represented.tsv |       FILTER |\n",
      "| 28 |     5 |         03_filtered_reads/all_r1-r2_intersection_f69652928b.tsv_duplicated.tsv |       FILTER |\n",
      "| 29 |     5 |      03_filtered_reads/all_r1-r2_intersection_f69652928b.tsv_random_breaks.tsv |       FILTER |\n",
      "'----^-------^--------------------------------------------------------------------------------^--------------'\n",
      ",----------------.\n",
      "| MAPPED_OUTPUTs |\n",
      ",----.--------.-------.-----------------.\n",
      "| Id | PATHid | BEDid | Uniquely_mapped |\n",
      "|----+--------+-------+-----------------|\n",
      "|  1 |      7 |    12 |       1,535,674 |\n",
      "|  2 |      6 |    12 |       9,331,696 |\n",
      "|  3 |     11 |    14 |       1,546,145 |\n",
      "|  4 |     10 |    14 |       9,323,263 |\n",
      "'----^--------^-------^-----------------'\n",
      ",----------------.\n",
      "| PARSED_OUTPUTs |\n",
      ",----.--------.-----------------------.---------------.\n",
      "| Id | PATHid | Total_uniquely_mapped |     Multiples |\n",
      "|----+--------+-----------------------+---------------|\n",
      "|  1 |     12 |            10,867,370 | 1:491280,2:19 |\n",
      "|  2 |     14 |            10,869,408 | 1:494699,2:17 |\n",
      "'----^--------^-----------------------^---------------'\n",
      ",------.\n",
      "| JOBs |\n",
      ",----.---------------------------------------------------------------------------------------------------------------------------------------------------------------------------------------------------------------------------------------------------------------------.---------------------.---------------------.--------.----------------.\n",
      "| Id |                                                                                                                                                                                                                                                          Parameters |         Launch_time |         Finish_time |   Type | Parameters_md5 |\n",
      "|----+---------------------------------------------------------------------------------------------------------------------------------------------------------------------------------------------------------------------------------------------------------------------+---------------------+---------------------+--------+----------------|\n",
      "|  1 |                                                                                          skip_mapping:1 read:1 chr_name:[] noX:0 fast_fragment:0 cpus:6 mapper:gem mapper_binary:/home/3DAROC21/miniconda2/envs/tadbit/bin/gem-mapper mapper_param:{} gem_version:3 | 04/10/2021 14:01:11 | 04/10/2021 14:01:15 |    Map |     6389769ac5 |\n",
      "|  2 |                                                                                          skip_mapping:0 read:1 chr_name:[] noX:0 fast_fragment:0 cpus:6 mapper:gem mapper_binary:/home/3DAROC21/miniconda2/envs/tadbit/bin/gem-mapper mapper_param:{} gem_version:3 | 04/10/2021 14:03:07 | 04/10/2021 14:07:50 |    Map |     e06c0841c2 |\n",
      "|  3 |                                                                                          skip_mapping:0 read:2 chr_name:[] noX:0 fast_fragment:0 cpus:6 mapper:gem mapper_binary:/home/3DAROC21/miniconda2/envs/tadbit/bin/gem-mapper mapper_param:{} gem_version:3 | 04/10/2021 14:07:52 | 04/10/2021 14:12:15 |    Map |     dbbd3e8e31 |\n",
      "|  4 |                                                                                                                      type:map filter_chrom:^(chr)?[A-Za-z]?[0-9]{0,3}[XVI]{0,3}(?:ito)?[A-Z-a-z]?(_dna)?$ compress_input:0 genome:[../refGenome/mm39_chr3.fa] noX:0 | 04/10/2021 14:13:58 | 04/10/2021 14:17:07 |  Parse |     ff973af7de |\n",
      "|  5 | force:0 resume:0 apply:[1, 2, 3, 4, 6, 7, 9, 10] cpus:32 noX:0 over_represented:0.001 strict_duplicates:0 max_frag_size:100000 min_frag_size:50 re_proximity:5 mad:0 max_f:0 median:0 compress_input:0 format:mid valid:0 clean:0 samtools:samtools fast_fragment:0 | 04/10/2021 22:02:34 | 04/10/2021 22:06:00 | Filter |     f69652928b |\n",
      "'----^---------------------------------------------------------------------------------------------------------------------------------------------------------------------------------------------------------------------------------------------------------------------^---------------------^---------------------^--------^----------------'\n",
      ",----------------------.\n",
      "| INTERSECTION_OUTPUTs |\n",
      ",----.--------.--------------------.-----------------------.------------------------.---------------------.---------------------.\n",
      "| Id | PATHid | Total_interactions | Multiple_interactions | Median_fragment_length | MAD_fragment_length | Max_fragment_length |\n",
      "|----+--------+--------------------+-----------------------+------------------------+---------------------+---------------------|\n",
      "|  1 |     15 |         11,070,408 |   2:361613 3:1306 4:1 |                    144 |                  50 |                 512 |\n",
      "'----^--------^--------------------^-----------------------^------------------------^---------------------^---------------------'\n",
      ",----------------.\n",
      "| FILTER_OUTPUTs |\n",
      ",----.--------.--------------------.-----------.---------.-------.\n",
      "| Id | PATHid |               Name |     Count | Applied | JOBid |\n",
      "|----+--------+--------------------+-----------+---------+-------|\n",
      "|  1 |     20 |        self-circle |    16,432 |    True |     5 |\n",
      "|  2 |     21 |       dangling-end | 1,020,603 |    True |     5 |\n",
      "|  3 |     22 |              error |   171,074 |    True |     5 |\n",
      "|  4 |     23 | extra dangling-end | 2,150,926 |    True |     5 |\n",
      "|  5 |     24 | too close from RES | 2,239,071 |   False |     5 |\n",
      "|  6 |     25 |          too short |   333,421 |    True |     5 |\n",
      "|  7 |     26 |          too large |       103 |    True |     5 |\n",
      "|  8 |     27 |   over-represented |    70,463 |   False |     5 |\n",
      "|  9 |     28 |         duplicated |   218,902 |    True |     5 |\n",
      "| 10 |     29 |      random breaks |    22,850 |    True |     5 |\n",
      "| 11 |     15 |        valid-pairs | 7,427,477 |         |     5 |\n",
      "'----^--------^--------------------^-----------^---------^-------'\n"
     ]
    },
    {
     "name": "stderr",
     "output_type": "stream",
     "text": [
      "[bam_sort_core] merging from 0 files and 32 in-memory blocks...\n"
     ]
    }
   ],
   "source": [
    "%%bash\n",
    "\n",
    "tadbit filter -w ../results/PSC_rep1"
   ]
  },
  {
   "cell_type": "markdown",
   "metadata": {},
   "source": [
    "### Inspect results\n",
    "\n",
    "We can list the generated files in the working directory in the subfolder `03_intersection`:"
   ]
  },
  {
   "cell_type": "code",
   "execution_count": 2,
   "metadata": {},
   "outputs": [
    {
     "name": "stdout",
     "output_type": "stream",
     "text": [
      "all_r1-r2_intersection_f69652928b.tsv\n",
      "all_r1-r2_intersection_f69652928b.tsv_dangling-end.tsv\n",
      "all_r1-r2_intersection_f69652928b.tsv_duplicated.tsv\n",
      "all_r1-r2_intersection_f69652928b.tsv_error.tsv\n",
      "all_r1-r2_intersection_f69652928b.tsv_extra_dangling-end.tsv\n",
      "all_r1-r2_intersection_f69652928b.tsv_over-represented.tsv\n",
      "all_r1-r2_intersection_f69652928b.tsv_random_breaks.tsv\n",
      "all_r1-r2_intersection_f69652928b.tsv_self-circle.tsv\n",
      "all_r1-r2_intersection_f69652928b.tsv_too_close_from_RES.tsv\n",
      "all_r1-r2_intersection_f69652928b.tsv_too_large.tsv\n",
      "all_r1-r2_intersection_f69652928b.tsv_too_short.tsv\n",
      "intersection_f69652928b.bam\n",
      "intersection_f69652928b.bam.bai\n",
      "valid_r1-r2_intersection_f69652928b.tsv\n"
     ]
    }
   ],
   "source": [
    "%%bash\n",
    "\n",
    "ls ../results/PSC_rep1/03_filtered_reads/"
   ]
  },
  {
   "cell_type": "markdown",
   "metadata": {},
   "source": [
    "The main intersection file is the `all_r1-r2_intersection_<id>.tsv` file. We can check its structure:"
   ]
  },
  {
   "cell_type": "code",
   "execution_count": 4,
   "metadata": {},
   "outputs": [
    {
     "name": "stdout",
     "output_type": "stream",
     "text": [
      "# CRM chr3\t159745316\n",
      "SRR5344969.sra.233045900\tchr3\t3000237\t0\t75\t1\t3005125\tchr3\t44068461\t1\t75\t44067902\t44068553\n",
      "SRR5344969.sra.109231286~2~\tchr3\t3001338\t0\t28\t1\t3005125\tchr3\t101946800\t1\t301\t101946316\t101947097\n"
     ]
    }
   ],
   "source": [
    "%%bash\n",
    "\n",
    "head ../results/PSC_rep1/03_filtered_reads/all_r1-r2_intersection_f69652928b.tsv -n 3"
   ]
  },
  {
   "cell_type": "markdown",
   "metadata": {},
   "source": [
    "Intersection files are tsv files containing information of mapped read pairs. They have the following columns:\n",
    "1. Extended sequence identifier as in the parsed file.\n",
    "2. Chromosome of the first pair.\n",
    "3. Start position of the first pair.\n",
    "4. Strand of the first pair.\n",
    "5. Length of the sequence of the first pair.\n",
    "6. Position of the left flanking restriction enzyme site of the first pair.\n",
    "7. Position of the right flanking restriction enzyme site of the first pair.\n",
    "8. Chromosome of the mate pair.\n",
    "9. Start position of the mate pair.\n",
    "10. Strand of the mate pair.\n",
    "11. Length of the sequence of the mate pair.\n",
    "12. Position of the left flanking restriction enzyme site of the mate pair.\n",
    "13. Position of the right flanking restriction enzyme site of the mate pair\n",
    "\n",
    "The other `all_r1-r2_intersection_<id>.tsv_` files contain the sequence identifiers of the read-pairs belonging to the different filters.\n",
    "For example the sequence identifiers of the dangling-ends are in the `all_r1-r2_intersection_<id>.tsv_dangling-end.tsv`:"
   ]
  },
  {
   "cell_type": "code",
   "execution_count": 5,
   "metadata": {},
   "outputs": [
    {
     "name": "stdout",
     "output_type": "stream",
     "text": [
      "SRR5344969.sra.171381778\n",
      "SRR5344969.sra.48401438\n",
      "SRR5344969.sra.203935105~2~\n"
     ]
    }
   ],
   "source": [
    "%%bash\n",
    "\n",
    "head ../results/PSC_rep1/03_filtered_reads/all_r1-r2_intersection_f69652928b.tsv_dangling-end.tsv -n 3"
   ]
  },
  {
   "cell_type": "markdown",
   "metadata": {},
   "source": [
    "The intersection file `valid_r1-r2_intersection_<id>.tsv` contains the read-pairs that passed the filter. By default only filters 1,2,3,4,6,7,9,10 from the list are applied.\n",
    "\n",
    "The main output of the `tadbit filter` tool is the `intersection_<id>.bam`. The Binary Alignment/Map (BAM) is a compressed binary format to store a Sequence Alignment/Map (SAM) file.  \n",
    "TADbit uses the BAM format to store the information included in the intersection file including the filter classification of read pairs. The advantages of this binary format are multiple: the reduced size of the files, the fast access to sections of the data thanks to the indexation, the standard access to the information through samtools, etc.\n",
    "\n",
    "__Note__: The fields we use in TADbit to generate a BAM file are not the conventional ones, we modify them as follows to store only the necessary information for the remaining part of the analysis.\n",
    "\n",
    "Using samtools we can inspect the information contained in the BAM file:"
   ]
  },
  {
   "cell_type": "code",
   "execution_count": 6,
   "metadata": {},
   "outputs": [
    {
     "name": "stdout",
     "output_type": "stream",
     "text": [
      "SRR5344969.sra.233045900\t576\tchr3\t3000237\t0\t75P\t=\t44068461\t75\t*\t*\tTC:i:1\tS1:i:0\tS2:i:1\n",
      "SRR5344969.sra.109231286~2~\t576\tchr3\t3001338\t0\t28P\t=\t101946800\t301\t*\t*\tTC:i:1\tS1:i:0\tS2:i:1\n",
      "SRR5344969.sra.25771537~2~\t576\tchr3\t3001338\t0\t29P\t=\t12424423\t117\t*\t*\tTC:i:1\tS1:i:0\tS2:i:1\n"
     ]
    }
   ],
   "source": [
    "%%bash\n",
    "\n",
    "samtools view ../results/PSC_rep1/03_filtered_reads/intersection_f69652928b.bam | head -n 3"
   ]
  },
  {
   "cell_type": "markdown",
   "metadata": {},
   "source": [
    "This is a description of the information contained in the columns of a TADbit BAM file:\n",
    "1. Extended sequence identifier as in the parsed file.\n",
    "2. Filtering flag (binary mask for the application of the 10 filters previously described):\n",
    "\n",
    "   1 self-circle  \n",
    "   2 dangling-end  \n",
    "   3 error  \n",
    "   4 extra dangling-end  \n",
    "   5 too close from RES  \n",
    "   6 too short  \n",
    "   7 too large  \n",
    "   8 over-represented  \n",
    "   9 duplicated  \n",
    "   10 random breaks  \n",
    "   11 inter-chromosomal  \n",
    "   \n",
    "   For example if we want to keep only pairs of read-ends that are excelusively inter-fragment contacts and that are not duplicated, we would apply filters 1, 2, 3 (self-circle, dangling-ends, errors) and 9 (duplicated) resulting in a binary number like this: 00100000111 which translates in decimal: 263. We could thus obtain these read-pairs with `samtools view -F 263`.\n",
    "3. A read pair may belong to several categories.\n",
    "4. Chromosome ID of the first pair.\n",
    "5. Position of the first pair.\n",
    "6. MAPQ is set to 0.\n",
    "7. Pseudo CIGAR replaced by the mapped length of the first read-end, and information about current copy (each pair is present twice in the BAM, P: first copy, S: second copy)\n",
    "8. Chromosome ID of the second pair.\n",
    "9. Position of the second pair.\n",
    "10. Mapped length of the second pair.\n",
    "11. Sequence is missing (*)\n",
    "12. Quality is missing (*)\n",
    "13. Tags:  \n",
    "    TC tag indicating single (1) or multi contact (the number of times a given sequenced fragment is involved in a pairwise contact).  \n",
    "    S1 and S2 tags are the strand orientation of the first and mate reads.\n"
   ]
  },
  {
   "cell_type": "markdown",
   "metadata": {},
   "source": [
    "### Check applied filters"
   ]
  },
  {
   "cell_type": "markdown",
   "metadata": {},
   "source": [
    "`tadbit filter` estimates the parameters used in the filters from the histogram of the dangling-ends lenghts. The plot is saved as `histogram_fragment_sizes_<id>.pdf` in the working directory:"
   ]
  },
  {
   "cell_type": "code",
   "execution_count": 1,
   "metadata": {},
   "outputs": [
    {
     "data": {
      "text/html": [
       "\n",
       "        <iframe\n",
       "            width=\"800\"\n",
       "            height=\"600\"\n",
       "            src=\"../results/PSC_rep1/histogram_fragment_sizes_f69652928b.pdf\"\n",
       "            frameborder=\"0\"\n",
       "            allowfullscreen\n",
       "            \n",
       "        ></iframe>\n",
       "        "
      ],
      "text/plain": [
       "<IPython.lib.display.IFrame at 0x7fd36c45a590>"
      ]
     },
     "execution_count": 1,
     "metadata": {},
     "output_type": "execute_result"
    }
   ],
   "source": [
    "from IPython.display import IFrame\n",
    "\n",
    "IFrame(\"../results/PSC_rep1/histogram_fragment_sizes_f69652928b.pdf\", width=800, height=600)\n"
   ]
  },
  {
   "cell_type": "markdown",
   "metadata": {},
   "source": [
    "The `max_molecule_length` parameter used to filter-out pseudo-dangling-ends is  extracted from the histogram. It is estimated as the maximum continuous fragment size: when a gap in continuity of > 10 bp is found in fragment lengths.  \n",
    "It is calculated as the first window where 10 consecutive sizes are counted less than a given value (the sum of all sizes divided by 100000); in our case is set to 512 bp.\n",
    "\n",
    "The `min_distance_to_re`, that affects the detection of random breaks, should be large enough in order to contain almost all the fragments. It is estimated as the maximum continuous fragment size plus the Median Absolute Deviation (more robust than the standard deviation for non-normal distributions https://en.wikipedia.org/wiki/Median_absolute_deviation); in our case is set to 562 bp\n",
    "\n",
    "\n",
    "The output of `tadbit tool` reports the number of valid and filtered read-pairs:"
   ]
  },
  {
   "cell_type": "code",
   "execution_count": 8,
   "metadata": {},
   "outputs": [
    {
     "name": "stdout",
     "output_type": "stream",
     "text": [
      ",----------------.\n",
      "| FILTER_OUTPUTs |\n",
      ",----.--------.--------------------.-----------.---------.-------.\n",
      "| Id | PATHid |               Name |     Count | Applied | JOBid |\n",
      "|----+--------+--------------------+-----------+---------+-------|\n",
      "|  1 |     20 |        self-circle |    16,432 |    True |     5 |\n",
      "|  2 |     21 |       dangling-end | 1,020,603 |    True |     5 |\n",
      "|  3 |     22 |              error |   171,074 |    True |     5 |\n",
      "|  4 |     23 | extra dangling-end | 2,150,926 |    True |     5 |\n",
      "|  5 |     24 | too close from RES | 2,239,071 |   False |     5 |\n",
      "|  6 |     25 |          too short |   333,421 |    True |     5 |\n",
      "|  7 |     26 |          too large |       103 |    True |     5 |\n",
      "|  8 |     27 |   over-represented |    70,463 |   False |     5 |\n",
      "|  9 |     28 |         duplicated |   218,902 |    True |     5 |\n",
      "| 10 |     29 |      random breaks |    22,850 |    True |     5 |\n",
      "| 11 |     15 |        valid-pairs | 7,427,477 |         |     5 |\n",
      "'----^--------^--------------------^-----------^---------^-------'\n"
     ]
    }
   ],
   "source": [
    "%%bash\n",
    "\n",
    "tadbit describe -w ../results/PSC_rep1/ -t 7"
   ]
  },
  {
   "cell_type": "markdown",
   "metadata": {},
   "source": [
    "### Plot the interaction matrix\n",
    "\n",
    "To generated a binned matrix from the interaction BAM file we use `tadbit bin`. In this case we will plot the matrix of chromosome 3 at 50kb resolution:"
   ]
  },
  {
   "cell_type": "code",
   "execution_count": null,
   "metadata": {
    "scrolled": true
   },
   "outputs": [],
   "source": [
    "%%bash\n",
    "\n",
    "tadbit bin -w ../results/PSC_rep1/ --only_plot  \\\n",
    "    -c chr3 --resolution 50000 \\\n",
    "    --cmap Reds --format png"
   ]
  },
  {
   "cell_type": "code",
   "execution_count": null,
   "metadata": {},
   "outputs": [],
   "source": [
    "%%bash\n",
    "\n",
    "ls ../results/PSC_rep1/05_sub-matrices/"
   ]
  },
  {
   "cell_type": "markdown",
   "metadata": {},
   "source": [
    "The generated matrix image is stored in the working directory under the `05_sub-matrices` subfolder.\n"
   ]
  },
  {
   "cell_type": "code",
   "execution_count": null,
   "metadata": {},
   "outputs": [],
   "source": [
    "from IPython.display import Image\n",
    "Image(filename='../results/PSC_rep1/05_sub-matrices/raw_chr3_50kb_f12ce89c57.png') "
   ]
  },
  {
   "cell_type": "code",
   "execution_count": 4,
   "metadata": {},
   "outputs": [
    {
     "name": "stdout",
     "output_type": "stream",
     "text": [
      "deleting 1 files\n",
      "  x ../results/PSC_rep1/05_sub-matrices/nrm_chr3:3395-3545_10kb_c8e49087d1.png\n",
      "cleaning table: PATHs\n",
      " - deleted 1 elements with JOBid = 12\n",
      "cleaning table: JOBs\n",
      " - deleted 1 elements with Id = 12\n",
      "cleaning table: MAPPED_INPUTs\n",
      "cleaning table: MAPPED_OUTPUTs\n",
      "cleaning table: PARSED_OUTPUTs\n",
      "cleaning table: INTERSECTION_OUTPUTs\n",
      "cleaning table: FILTER_OUTPUTs\n",
      "cleaning table: NORMALIZE_OUTPUTs\n",
      "cleaning table: SEGMENT_OUTPUTs\n"
     ]
    }
   ],
   "source": [
    "%%bash\n",
    "\n",
    "tadbit clean -w ../results/PSC_rep1/ -j 12 --delete"
   ]
  },
  {
   "cell_type": "code",
   "execution_count": 3,
   "metadata": {},
   "outputs": [
    {
     "name": "stdout",
     "output_type": "stream",
     "text": [
      ",------.\n",
      "| JOBs |\n",
      ",----.-------------------------------------------------------------------------------------------------------------------------------------------------------------------------------------------------------------------------------------------------------------------------------------------------.---------------------.---------------------.-----------.----------------.\n",
      "| Id |                                                                                                                                                                                                                                                                                      Parameters |         Launch_time |         Finish_time |      Type | Parameters_md5 |\n",
      "|----+-------------------------------------------------------------------------------------------------------------------------------------------------------------------------------------------------------------------------------------------------------------------------------------------------+---------------------+---------------------+-----------+----------------|\n",
      "|  1 |                                                                                                                      skip_mapping:1 read:1 chr_name:[] noX:0 fast_fragment:0 cpus:6 mapper:gem mapper_binary:/home/3DAROC21/miniconda2/envs/tadbit/bin/gem-mapper mapper_param:{} gem_version:3 | 04/10/2021 14:01:11 | 04/10/2021 14:01:15 |       Map |     6389769ac5 |\n",
      "|  2 |                                                                                                                      skip_mapping:0 read:1 chr_name:[] noX:0 fast_fragment:0 cpus:6 mapper:gem mapper_binary:/home/3DAROC21/miniconda2/envs/tadbit/bin/gem-mapper mapper_param:{} gem_version:3 | 04/10/2021 14:03:07 | 04/10/2021 14:07:50 |       Map |     e06c0841c2 |\n",
      "|  3 |                                                                                                                      skip_mapping:0 read:2 chr_name:[] noX:0 fast_fragment:0 cpus:6 mapper:gem mapper_binary:/home/3DAROC21/miniconda2/envs/tadbit/bin/gem-mapper mapper_param:{} gem_version:3 | 04/10/2021 14:07:52 | 04/10/2021 14:12:15 |       Map |     dbbd3e8e31 |\n",
      "|  4 |                                                                                                                                                  type:map filter_chrom:^(chr)?[A-Za-z]?[0-9]{0,3}[XVI]{0,3}(?:ito)?[A-Z-a-z]?(_dna)?$ compress_input:0 genome:[../refGenome/mm39_chr3.fa] noX:0 | 04/10/2021 14:13:58 | 04/10/2021 14:17:07 |     Parse |     ff973af7de |\n",
      "|  5 |                             force:0 resume:0 apply:[1, 2, 3, 4, 6, 7, 9, 10] cpus:32 noX:0 over_represented:0.001 strict_duplicates:0 max_frag_size:100000 min_frag_size:50 re_proximity:5 mad:0 max_f:0 median:0 compress_input:0 format:mid valid:0 clean:0 samtools:samtools fast_fragment:0 | 04/10/2021 22:02:34 | 04/10/2021 22:06:00 |    Filter |     f69652928b |\n",
      "|  6 |                             nox:0 reso:50000 force:0 nchunks:100 cpus:32 matrix:0 cooler:0 row_names:0 plot:1 force_plot:0 only_plot:1 interactive:0 triangular:0 xtick_rotation:-25 cmap:Reds bad_color:white format:png transform:log2 coord1:chr3 normalizations:[raw] filter:879 only_txt:0 | 04/10/2021 22:08:15 | 04/10/2021 22:09:17 |       Bin |     ae5b48f670 |\n",
      "|  7 |                                                                                                                     reso:10000 max_njobs:100 cpus:32 normalize_only:0 noX:0 normalization:ICE factor:1 seed:1 perc_zeros:95 min_count:100.0 filter_only:0 fast_filter:0 filter:879 only_valid:0 | 04/10/2021 22:10:07 | 04/10/2021 22:13:32 | Normalize |     9eb56390cc |\n",
      "|  8 |     nox:0 reso:10000 force:0 nchunks:100 cpus:32 matrix:0 cooler:0 row_names:0 plot:1 force_plot:0 only_plot:1 interactive:0 triangular:0 xtick_rotation:-25 cmap:Reds bad_color:white format:png transform:log2 coord1:chr3:33950000-35450000 normalizations:[raw, norm] filter:879 only_txt:0 | 04/10/2021 22:14:05 | 04/10/2021 22:14:09 |       Bin |     bab7be0e72 |\n",
      "|  9 |                                                                                                                 reso:10000 max_njobs:100 cpus:32 normalize_only:0 noX:0 normalization:Vanilla factor:1 seed:1 perc_zeros:95 min_count:100.0 filter_only:0 fast_filter:0 filter:879 only_valid:0 | 04/10/2021 22:14:46 | 04/10/2021 22:15:06 | Normalize |     b788400f2d |\n",
      "| 10 |  nox:0 reso:10000 jobid:9 force:0 nchunks:100 cpus:32 matrix:0 cooler:0 row_names:0 plot:1 force_plot:0 only_plot:1 interactive:0 triangular:0 xtick_rotation:-25 cmap:Reds bad_color:white format:png transform:log2 coord1:chr3:33950000-35450000 normalizations:[norm] filter:879 only_txt:0 | 04/10/2021 22:15:08 | 04/10/2021 22:15:10 |       Bin |     e89b5aa69f |\n",
      "| 11 |                                                                                                                    reso:10000 max_njobs:100 cpus:32 normalize_only:0 noX:0 normalization:SQRT factor:1 seed:1 perc_zeros:95 min_count:100.0 filter_only:0 fast_filter:0 filter:879 only_valid:0 | 04/10/2021 22:15:30 | 04/10/2021 22:15:50 | Normalize |     54c5c393e7 |\n",
      "| 12 | nox:0 reso:10000 jobid:11 force:0 nchunks:100 cpus:32 matrix:0 cooler:0 row_names:0 plot:1 force_plot:0 only_plot:1 interactive:0 triangular:0 xtick_rotation:-25 cmap:Reds bad_color:white format:png transform:log2 coord1:chr3:33950000-35450000 normalizations:[norm] filter:879 only_txt:0 | 04/10/2021 22:15:52 | 04/10/2021 22:15:54 |       Bin |     c8e49087d1 |\n",
      "| 13 |              reso:10000 max_njobs:100 cpus:32 normalize_only:0 noX:0 normalization:oneD mappability:../refGenome/genmap/mappability/mm39_chr3.genmap.bedgraph fasta:../refGenome/mm39_chr3.fa factor:1 seed:1 perc_zeros:95 min_count:100.0 filter_only:0 fast_filter:0 filter:879 only_valid:0 | 04/10/2021 22:16:36 | 04/10/2021 22:17:06 | Normalize |     865654de7a |\n",
      "| 14 | nox:0 reso:10000 jobid:13 force:0 nchunks:100 cpus:32 matrix:0 cooler:0 row_names:0 plot:1 force_plot:0 only_plot:1 interactive:0 triangular:0 xtick_rotation:-25 cmap:Reds bad_color:white format:png transform:log2 coord1:chr3:33950000-35450000 normalizations:[norm] filter:879 only_txt:0 | 04/10/2021 22:17:07 | 04/10/2021 22:17:09 |       Bin |     bbc3ec05c6 |\n",
      "| 15 |                                                                                                                reso:100000 max_njobs:100 cpus:32 normalize_only:0 noX:0 normalization:Vanilla factor:1 seed:1 perc_zeros:95 min_count:100.0 filter_only:0 fast_filter:0 filter:879 only_valid:0 | 04/10/2021 22:17:53 | 04/10/2021 22:18:00 | Normalize |     ecd8aebde3 |\n",
      "| 16 |                                                                  nosql:0 all_bins:0 reso:100000 filter:[1, 2, 3, 4, 6, 7, 9, 10] noX:0 rich_in_A:../refGenome/mm39_chr3.fa savecorr:0 fix_corr_scale:0 format:png n_evs:3 only_compartments:1 only_tads:0 verbose:0 crms:[chr3] cpus:12 force:0 | 04/10/2021 22:18:03 | 04/10/2021 22:18:24 |   Segment |     d911b662f2 |\n",
      "'----^-------------------------------------------------------------------------------------------------------------------------------------------------------------------------------------------------------------------------------------------------------------------------------------------------^---------------------^---------------------^-----------^----------------'\n"
     ]
    }
   ],
   "source": [
    "%%bash\n",
    "\n",
    "tadbit describe -w ../results/PSC_rep1/ -t 2"
   ]
  },
  {
   "cell_type": "markdown",
   "metadata": {},
   "source": [
    "- True or False? In case it is false try to correct the sentence:\n",
    " 1. Valid-pairs are always more than 50% in any Hi-C experiment.\n",
    " 2. The filtering step is meant to remove read-pairs generated from experimental errors.\n",
    " 3. In both self-circles and dangling-ends the paired-reads are mapped on the same RE fragment.\n",
    " 4. All the filters must be applied in all the analysis.\n",
    "- Could you explain the event of a Random-break and how one can spot it from analysing the mapped read-pair?\n",
    "- Could you explain the origin of a duplicated read during the Hi-C experiment?"
   ]
  }
 ],
 "metadata": {
  "hide_input": false,
  "kernelspec": {
   "display_name": "Python 3 (ipykernel)",
   "language": "python",
   "name": "python3"
  },
  "language_info": {
   "codemirror_mode": {
    "name": "ipython",
    "version": 3
   },
   "file_extension": ".py",
   "mimetype": "text/x-python",
   "name": "python",
   "nbconvert_exporter": "python",
   "pygments_lexer": "ipython3",
   "version": "3.7.10"
  },
  "toc": {
   "base_numbering": 1,
   "nav_menu": {},
   "number_sections": false,
   "sideBar": true,
   "skip_h1_title": false,
   "title_cell": "Table of Contents",
   "title_sidebar": "Contents",
   "toc_cell": false,
   "toc_position": {},
   "toc_section_display": "block",
   "toc_window_display": true
  }
 },
 "nbformat": 4,
 "nbformat_minor": 1
}
