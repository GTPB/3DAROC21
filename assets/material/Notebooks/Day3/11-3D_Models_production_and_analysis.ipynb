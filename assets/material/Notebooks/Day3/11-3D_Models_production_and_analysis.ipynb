{
 "cells": [
  {
   "cell_type": "markdown",
   "metadata": {
    "collapsed": true
   },
   "source": [
    "## Modeling a region of the chromatin"
   ]
  },
  {
   "cell_type": "markdown",
   "metadata": {},
   "source": [
    "__running time__: < 60 min\n",
    "\n",
    "After the optimization step we have to create an ensemble of models using the optimal set of parameters that maximize our correlation with the input data.\n",
    "\n",
    "### PSC cell"
   ]
  },
  {
   "cell_type": "code",
   "execution_count": 1,
   "metadata": {},
   "outputs": [
    {
     "name": "stdout",
     "output_type": "stream",
     "text": [
      ",-----------------.\n",
      "| MODELED_REGIONs |\n",
      ",----.-------.-------.--------.------------.--------.-------.-------.\n",
      "| Id | JOBid |  Type | PATHid |  PARAM_md5 |   RESO |   BEG |   END |\n",
      "|----+-------+-------+--------+------------+--------+-------+-------|\n",
      "|  1 |    26 | OPTIM |     62 | 49e20a90c8 | 10,000 | 3,395 | 3,545 |\n",
      "'----^-------^-------^--------^------------^--------^-------^-------'\n"
     ]
    }
   ],
   "source": [
    "%%bash\n",
    "\n",
    "tadbit describe -w ../results/PSC_rep1/ -t 13"
   ]
  },
  {
   "cell_type": "markdown",
   "metadata": {},
   "source": [
    "From the models produced (n_models) we will tell TADbit to conserve a number of them (n_keep) that best satisfy the imposed restraints."
   ]
  },
  {
   "cell_type": "markdown",
   "metadata": {},
   "source": [
    "The final ensemble is built with the `tadbit model` and the `--model` flag. To pass to tadbit which matrix we want to use we pass the `jobid` of the previously generated text matrix. The following command takes around 20 minutes with 8 cpus:"
   ]
  },
  {
   "cell_type": "code",
   "execution_count": 2,
   "metadata": {},
   "outputs": [
    {
     "name": "stderr",
     "output_type": "stream",
     "text": [
      "     o Loading Hi-C matrix\n",
      "\n",
      "        Modeling\n",
      "********\n",
      "\n",
      "          - Region: Chromosome chr3 from 33950000 to 35450000 at resolution 10 kb (150 particles)\n",
      "\n",
      "     o Loading optimized parameters\n",
      "Loaded UpFreq:   0.6 LowFreq:   -0.8 MaxDist:    250 scale:  0.01 cutoff:      2 Correlation:0.72\n",
      "       1/1         0.6    -0.8     250   0.01     2.0 | 0.7301\n"
     ]
    }
   ],
   "source": [
    "%%bash\n",
    "\n",
    "tadbit model -w ../results/PSC_rep1/ \\\n",
    "    --reso 10000 \\\n",
    "    --crm chr3 \\\n",
    "    --beg 33950000 --end 35450000 \\\n",
    "    --nmodels 2000 --nkeep 1000 \\\n",
    "    --cpu 8 \\\n",
    "    --jobid 25 \\\n",
    "    --model"
   ]
  },
  {
   "cell_type": "markdown",
   "metadata": {},
   "source": [
    "The result is the generated ensemble of models in a format that can be loaded in the python TADbit library stored in the `07_model/<id>` subfolder."
   ]
  },
  {
   "cell_type": "code",
   "execution_count": 3,
   "metadata": {},
   "outputs": [
    {
     "name": "stdout",
     "output_type": "stream",
     "text": [
      ",-----------------.\n",
      "| MODELED_REGIONs |\n",
      ",----.-------.-------.--------.------------.--------.-------.-------.\n",
      "| Id | JOBid |  Type | PATHid |  PARAM_md5 |   RESO |   BEG |   END |\n",
      "|----+-------+-------+--------+------------+--------+-------+-------|\n",
      "|  1 |    26 | OPTIM |     62 | 49e20a90c8 | 10,000 | 3,395 | 3,545 |\n",
      "|  2 |    27 | MODEL |     72 | a66efe4b3f | 10,000 | 3,395 | 3,545 |\n",
      "'----^-------^-------^--------^------------^--------^-------^-------'\n"
     ]
    }
   ],
   "source": [
    "%%bash\n",
    "\n",
    "tadbit describe -w ../results/PSC_rep1/ -t 13"
   ]
  },
  {
   "cell_type": "markdown",
   "metadata": {},
   "source": [
    "`tadbit model` provides some out-of-the-box analysis of the generated models. To produce them we use the tool again with the `--analyze` flag:"
   ]
  },
  {
   "cell_type": "code",
   "execution_count": 4,
   "metadata": {},
   "outputs": [
    {
     "name": "stdout",
     "output_type": "stream",
     "text": [
      "Number of singletons excluded from clustering: 40 (total singletons: 42)\n",
      "Total number of clusters: 77\n",
      "   Cluster #1 has 249 models [top model: 1831]\n",
      "   Cluster #2 has 221 models [top model: 590]\n",
      "   Cluster #3 has 36 models [top model: 902]\n",
      "   Cluster #4 has 33 models [top model: 23]\n",
      "   Cluster #5 has 28 models [top model: 1478]\n",
      "   Cluster #6 has 27 models [top model: 199]\n",
      "   Cluster #7 has 26 models [top model: 950]\n",
      "   Cluster #8 has 23 models [top model: 1412]\n",
      "   Cluster #9 has 15 models [top model: 286]\n",
      "   Cluster #10 has 15 models [top model: 1151]\n",
      "   Cluster #11 has 14 models [top model: 634]\n",
      "   Cluster #12 has 11 models [top model: 739]\n",
      "   Cluster #13 has 11 models [top model: 1598]\n",
      "   Cluster #14 has 11 models [top model: 552]\n",
      "   Cluster #15 has 11 models [top model: 399]\n",
      "   Cluster #16 has 11 models [top model: 620]\n",
      "   Cluster #17 has 11 models [top model: 1720]\n",
      "   Cluster #18 has 9 models [top model: 312]\n",
      "   Cluster #19 has 9 models [top model: 1203]\n",
      "   Cluster #20 has 8 models [top model: 1477]\n",
      "   Cluster #21 has 7 models [top model: 1729]\n",
      "   Cluster #22 has 7 models [top model: 1480]\n",
      "   Cluster #23 has 7 models [top model: 1304]\n",
      "   Cluster #24 has 6 models [top model: 1135]\n",
      "   Cluster #25 has 6 models [top model: 248]\n",
      "   Cluster #26 has 6 models [top model: 234]\n",
      "   Cluster #27 has 5 models [top model: 1325]\n",
      "   Cluster #28 has 5 models [top model: 489]\n",
      "   Cluster #29 has 5 models [top model: 827]\n",
      "   Cluster #30 has 4 models [top model: 568]\n",
      "   Cluster #31 has 4 models [top model: 1844]\n",
      "   Cluster #32 has 4 models [top model: 1747]\n",
      "   Cluster #33 has 4 models [top model: 224]\n",
      "   Cluster #34 has 4 models [top model: 887]\n",
      "   Cluster #35 has 4 models [top model: 400]\n",
      "   Cluster #36 has 4 models [top model: 1622]\n",
      "   Cluster #37 has 3 models [top model: 359]\n",
      "   Cluster #38 has 3 models [top model: 1146]\n",
      "   Cluster #39 has 3 models [top model: 29]\n",
      "   Cluster #40 has 3 models [top model: 1157]\n",
      "   Cluster #41 has 3 models [top model: 616]\n",
      "   Cluster #42 has 3 models [top model: 1793]\n",
      "   Cluster #43 has 3 models [top model: 1544]\n",
      "   Cluster #44 has 3 models [top model: 512]\n",
      "   Cluster #45 has 3 models [top model: 708]\n",
      "   Cluster #46 has 3 models [top model: 1893]\n",
      "   Cluster #47 has 3 models [top model: 702]\n",
      "   Cluster #48 has 3 models [top model: 833]\n",
      "   Cluster #49 has 3 models [top model: 1353]\n",
      "   Cluster #50 has 3 models [top model: 1438]\n",
      "   Cluster #51 has 3 models [top model: 203]\n",
      "   Cluster #52 has 2 models [top model: 1489]\n",
      "   Cluster #53 has 2 models [top model: 478]\n",
      "   Cluster #54 has 2 models [top model: 147]\n",
      "   Cluster #55 has 2 models [top model: 935]\n",
      "   Cluster #56 has 2 models [top model: 138]\n",
      "   Cluster #57 has 2 models [top model: 1751]\n",
      "   Cluster #58 has 2 models [top model: 1995]\n",
      "   Cluster #59 has 2 models [top model: 424]\n",
      "   Cluster #60 has 2 models [top model: 862]\n",
      "   Cluster #61 has 2 models [top model: 1458]\n",
      "   Cluster #62 has 2 models [top model: 1910]\n",
      "   Cluster #63 has 2 models [top model: 223]\n",
      "   Cluster #64 has 2 models [top model: 265]\n",
      "   Cluster #65 has 2 models [top model: 494]\n",
      "   Cluster #66 has 2 models [top model: 920]\n",
      "   Cluster #67 has 2 models [top model: 915]\n",
      "   Cluster #68 has 2 models [top model: 1062]\n",
      "   Cluster #69 has 2 models [top model: 1308]\n",
      "   Cluster #70 has 2 models [top model: 971]\n",
      "   Cluster #71 has 2 models [top model: 1999]\n",
      "   Cluster #72 has 2 models [top model: 369]\n",
      "   Cluster #73 has 2 models [top model: 1824]\n",
      "   Cluster #74 has 2 models [top model: 502]\n",
      "   Cluster #75 has 2 models [top model: 153]\n",
      "   Cluster #76 has 2 models [top model: 1142]\n",
      "   Cluster #77 has 2 models [top model: 1111]\n",
      "\n"
     ]
    },
    {
     "name": "stderr",
     "output_type": "stream",
     "text": [
      "\n",
      "        Analysis\n",
      "\n",
      "          - Region: Chromosome chr3 from 3396 to 3545 at resolution 10 kb (150 particles)\n",
      "            \n",
      "\tCorrelation with data...\n",
      "\t Correlation coefficient: 0.7300696444463305 [p-value: 0.0]\n",
      "\tZ-score plot...\n",
      "\tClustering all models into sets of structurally similar models...\n",
      "   fact = 0.95\n",
      "      cutoff = 100.0\n",
      "\tSaving again the models this time with clusters...\n",
      "/scratch/3DAROC21/miniconda2/envs/tadbit/lib/python3.7/site-packages/pytadbit/modelling/structuralmodels.py:2593: UserWarning: WARNING: chrom_start variable wasn't set, setting it to the position in the experiment matrix (33950000)\n",
      "  if isinstance(my_descr['start'], list) else my_descr['start'])))\n",
      "/scratch/3DAROC21/miniconda2/envs/tadbit/lib/python3.7/site-packages/pytadbit/modelling/structuralmodels.py:2599: UserWarning: WARNING: chrom_end variable wasn't set, setting it to the position in the experiment matrix (35450000)\n",
      "  if isinstance(my_descr['end'], list) else my_descr['end'])))\n",
      "\t\tWriting models, list and chimera files...\n",
      "\t\tCluster #1 has 249 models ['1831', '336', '964', '1462', '1505', '436', '577', '653', '1823', '752', '1103', '334', '1411', '135', '1067', '1322', '1122', '1608', '260', '1154', '1695', '1555', '1162', '1187', '1251', '163', '122', '1628', '842', '529', '571', '533', '1846', '1730', '960', '600', '1311', '1075', '1143', '54', '1930', '1225', '1922', '239', '375', '872', '1180', '1046', '1247', '576', '981', '1884', '121', '106', '1750', '293', '322', '627', '378', '433', '1487', '1295', '1175', '817', '1959', '796', '1402', '1445', '456', '1001', '107', '1512', '295', '458', '157', '1790', '1986', '1052', '318', '1809', '1150', '1780', '347', '1692', '1459', '1921', '1777', '1243', '537', '732', '1725', '1795', '348', '1439', '1872', '982', '945', '1529', '1955', '131', '1385', '878', '709', '932', '1916', '810', '256', '490', '1953', '1016', '870', '1882', '120', '1738', '944', '34', '1594', '892', '162', '1896', '1589', '302', '1287', '232', '319', '1248', '341', '2', '818', '983', '488', '272', '1909', '1472', '1958', '879', '1528', '673', '1592', '660', '1405', '1761', '619', '973', '1128', '1127', '648', '830', '1847', '345', '281', '497', '1625', '655', '1172', '837', '1549', '421', '642', '1918', '284', '669', '335', '145', '1538', '330', '1014', '1216', '1797', '1970', '230', '324', '1258', '427', '1182', '664', '154', '1305', '592', '1099', '353', '1105', '859', '1159', '27', '1873', '310', '1967', '659', '987', '257', '1008', '1799', '588', '949', '1519', '1541', '1299', '1546', '1123', '1775', '12', '464', '1759', '279', '1892', '729', '847', '1082', '41', '776', '296', '1798', '876', '426', '1735', '1615', '1025', '643', '538', '1639', '782', '925', '45', '800', '148', '605', '1488', '212', '1183', '1705', '482', '1256', '1497', '1540', '1612', '546', '1199', '1509', '1943', '66', '1709', '412', '1428', '418', '1253', '795', '1137', '1188']\n",
      "\t\tCluster #2 has 221 models ['590', '756', '1166', '551', '1899', '1042', '894', '1013', '1344', '1934', '140', '1433', '1030', '1034', '1238', '1713', '1945', '315', '1696', '1905', '743', '1603', '942', '466', '1313', '1906', '1221', '624', '589', '1667', '1343', '1279', '1514', '186', '182', '1588', '168', '187', '25', '1954', '532', '1638', '1942', '1523', '767', '1384', '1120', '1734', '1818', '1208', '1331', '510', '423', '259', '1040', '49', '94', '361', '867', '1937', '316', '622', '170', '1754', '1', '941', '581', '221', '1690', '1395', '513', '1132', '429', '860', '1845', '1494', '1609', '631', '1323', '1907', '1399', '580', '1010', '1114', '1570', '413', '684', '492', '888', '789', '228', '734', '598', '578', '1856', '1212', '1230', '299', '1362', '453', '449', '1578', '1552', '849', '668', '989', '1687', '1026', '214', '231', '1060', '641', '57', '697', '953', '1511', '633', '173', '1186', '1859', '744', '707', '766', '393', '688', '360', '450', '1447', '1952', '1769', '1610', '745', '1359', '110', '376', '1423', '1415', '567', '868', '665', '254', '73', '354', '391', '372', '1767', '615', '786', '1566', '308', '1147', '197', '1446', '1358', '434', '527', '811', '1370', '1924', '402', '1718', '77', '290', '1575', '1330', '1382', '97', '1091', '1839', '226', '46', '70', '1409', '9', '931', '1380', '737', '387', '863', '1917', '845', '649', '332', '717', '459', '124', '1527', '408', '1059', '1090', '314', '1501', '1854', '1584', '1739', '1704', '218', '1414', '844', '210', '1740', '246', '465', '1794', '1627', '1728', '930', '792', '951', '911', '1772', '1998', '1928', '101', '1992', '907', '1490', '1089', '785', '570', '994']\n",
      "\t\tCluster #3 has 36 models ['902', '18', '1732', '469', '431', '303', '1224', '564', '1963', '1396', '1987', '1254', '523', '518', '928', '1902', '544', '661', '1881', '1716', '172', '420', '991', '1327', '1661', '1351', '1427', '832', '174', '584', '808', '563', '1050', '236', '1758', '1272']\n",
      "\t\tCluster #4 has 33 models ['23', '993', '1698', '975', '557', '700', '1771', '918', '1223', '1461', '798', '151', '356', '1706', '337', '495', '1326', '202', '1310', '543', '1205', '573', '721', '1723', '1803', '1038', '912', '362', '781', '243', '1558', '338', '1506']\n",
      "\t\tCluster #5 has 28 models ['1478', '1452', '895', '95', '220', '8', '997', '1601', '1579', '1064', '417', '1406', '1301', '344', '965', '1787', '1328', '857', '461', '976', '961', '1407', '1614', '1903', '625', '1974', '1726', '1058']\n",
      "\t\tCluster #6 has 27 models ['199', '1548', '644', '1605', '1888', '1931', '636', '1596', '470', '759', '773', '208', '760', '1703', '1020', '398', '462', '1145', '1338', '1867', '1644', '802', '1173', '733', '79', '899', '119']\n",
      "\t\tCluster #7 has 26 models ['950', '1821', '1337', '957', '1946', '271', '158', '1626', '840', '1969', '807', '253', '373', '1144', '117', '955', '663', '114', '62', '1659', '1569', '1054', '1102', '81', '803', '229']\n",
      "\t\tCluster #8 has 23 models ['1412', '757', '998', '1355', '1550', '1281', '1857', '995', '467', '1752', '1807', '1897', '611', '1556', '1500', '238', '1367', '1957', '1306', '1778', '1810', '1875', '1927']\n",
      "\t\tCluster #9 has 15 models ['286', '1390', '1808', '1177', '171', '443', '1879', '1912', '1561', '1312', '556', '723', '1837', '1124', '703']\n",
      "\t\tCluster #10 has 15 models ['1151', '36', '84', '1557', '1178', '1342', '389', '1191', '903', '1219', '1994', '692', '39', '43', '1869']\n",
      "\t\tCluster #11 has 14 models ['634', '1801', '1700', '1207', '1613', '777', '1233', '167', '1083', '1851', '1469', '1812', '1935', '1553']\n",
      "\t\tCluster #12 has 11 models ['739', '1410', '1526', '242', '323', '37', '500', '183', '1975', '900', '1240']\n",
      "\t\tCluster #13 has 11 models ['1598', '1521', '1779', '123', '237', '852', '1573', '725', '125', '858', '1366']\n",
      "\t\tCluster #14 has 11 models ['552', '864', '258', '1296', '333', '788', '1784', '1418', '1785', '1940', '1171']\n",
      "\t\tCluster #15 has 11 models ['399', '30', '1749', '647', '866', '1217', '1036', '1665', '882', '1189', '1241']\n",
      "\t\tCluster #16 has 11 models ['620', '828', '108', '263', '1148', '472', '595', '1883', '1169', '80', '507']\n",
      "\t\tCluster #17 has 11 models ['1720', '1920', '917', '730', '139', '1176', '547', '1141', '382', '1630', '515']\n",
      "\t\tCluster #18 has 9 models ['312', '82', '1683', '1085', '64', '710', '235', '1574', '1962']\n",
      "\t\tCluster #19 has 9 models ['1203', '1078', '1041', '1136', '1267', '1744', '1383', '394', '922']\n",
      "\t\tCluster #20 has 8 models ['1477', '1437', '1539', '1255', '32', '763', '1770', '1582']\n",
      "\t\tCluster #21 has 7 models ['1729', '204', '712', '1898', '1838', '1229', '1853']\n",
      "\t\tCluster #22 has 7 models ['1480', '1232', '74', '877', '1096', '822', '599']\n",
      "\t\tCluster #23 has 7 models ['1304', '1890', '736', '87', '1056', '300', '1848']\n",
      "\t\tCluster #24 has 6 models ['1135', '1669', '1441', '444', '1209', '1606']\n",
      "\t\tCluster #25 has 6 models ['248', '1098', '1005', '289', '771', '969']\n",
      "\t\tCluster #26 has 6 models ['234', '1357', '317', '1473', '1283', '506']\n",
      "\t\tCluster #27 has 5 models ['1325', '1733', '561', '1708', '824']\n",
      "\t\tCluster #28 has 5 models ['489', '351', '477', '1536', '658']\n",
      "\t\tCluster #29 has 5 models ['827', '715', '910', '1329', '1741']\n",
      "\t\tCluster #30 has 4 models ['568', '694', '520', '929']\n",
      "\t\tCluster #31 has 4 models ['1844', '414', '535', '1651']\n",
      "\t\tCluster #32 has 4 models ['1747', '1911', '1858', '1871']\n",
      "\t\tCluster #33 has 4 models ['224', '539', '1374', '35']\n",
      "\t\tCluster #34 has 4 models ['887', '1318', '524', '1084']\n",
      "\t\tCluster #35 has 4 models ['400', '90', '593', '1265']\n",
      "\t\tCluster #36 has 4 models ['1622', '1852', '728', '1218']\n",
      "\t\tCluster #37 has 3 models ['359', '1518', '843']\n",
      "\t\tCluster #38 has 3 models ['1146', '1055', '794']\n",
      "\t\tCluster #39 has 3 models ['29', '1126', '321']\n",
      "\t\tCluster #40 has 3 models ['1157', '1319', '1303']\n",
      "\t\tCluster #41 has 3 models ['616', '1227', '1387']\n",
      "\t\tCluster #42 has 3 models ['1793', '371', '207']\n",
      "\t\tCluster #43 has 3 models ['1544', '542', '1002']\n",
      "\t\tCluster #44 has 3 models ['512', '1393', '1496']\n",
      "\t\tCluster #45 has 3 models ['708', '133', '1960']\n",
      "\t\tCluster #46 has 3 models ['1893', '476', '1021']\n",
      "\t\tCluster #47 has 3 models ['702', '1691', '893']\n",
      "\t\tCluster #48 has 3 models ['833', '349', '1378']\n",
      "\t\tCluster #49 has 3 models ['1353', '575', '1637']\n",
      "\t\tCluster #50 has 3 models ['1438', '180', '774']\n",
      "\t\tCluster #51 has 3 models ['203', '1915', '1664']\n",
      "\t\tCluster #52 has 2 models ['1489', '1968']\n",
      "\t\tCluster #53 has 2 models ['478', '1202']\n",
      "\t\tCluster #54 has 2 models ['147', '291']\n",
      "\t\tCluster #55 has 2 models ['935', '1119']\n",
      "\t\tCluster #56 has 2 models ['138', '926']\n",
      "\t\tCluster #57 has 2 models ['1751', '1951']\n",
      "\t\tCluster #58 has 2 models ['1995', '311']\n",
      "\t\tCluster #59 has 2 models ['424', '15']\n",
      "\t\tCluster #60 has 2 models ['862', '1936']\n",
      "\t\tCluster #61 has 2 models ['1458', '496']\n",
      "\t\tCluster #62 has 2 models ['1910', '1080']\n",
      "\t\tCluster #63 has 2 models ['223', '1973']\n",
      "\t\tCluster #64 has 2 models ['265', '820']\n",
      "\t\tCluster #65 has 2 models ['494', '1576']\n",
      "\t\tCluster #66 has 2 models ['920', '144']\n",
      "\t\tCluster #67 has 2 models ['915', '1246']\n",
      "\t\tCluster #68 has 2 models ['1062', '640']\n",
      "\t\tCluster #69 has 2 models ['1308', '1948']\n",
      "\t\tCluster #70 has 2 models ['971', '352']\n",
      "\t\tCluster #71 has 2 models ['1999', '1336']\n",
      "\t\tCluster #72 has 2 models ['369', '693']\n",
      "\t\tCluster #73 has 2 models ['1824', '1697']\n",
      "\t\tCluster #74 has 2 models ['502', '1712']\n",
      "\t\tCluster #75 has 2 models ['153', '1789']\n",
      "\t\tCluster #76 has 2 models ['1142', '1104']\n",
      "\t\tCluster #77 has 2 models ['1111', '374']\n",
      "\t\tSingletons has 42 models ['1677', '923', '1680', '768', '1676', '155', '484', '1668', '826', '705', '604', '1822', '1887', '416', '985', '1316', '447', '586', '31', '179', '1200', '1941', '479', '409', '65', '1164', '276', '442', '1498', '460', '189', '819', '1245', '988', '919', '1855', '403', '1403', '1632', '1244', '19', '1071']\n",
      "\tPlotting objective function decay for vbest model...\n",
      "\tGetting centroid...\n",
      "\t\tThe model centroid (closest to the average) for cluster 1 is: 108\n",
      "\tGetting consistency data...\n",
      "\tGetting density data...\n",
      "\tGetting a contact map...\n",
      "\tGetting angle data...\n",
      "\tGetting persistence length data...\n",
      "\tGetting accessibility data...\n",
      "\tGetting accessibility data (this can take long)...\n",
      "\tGetting interaction data...\n"
     ]
    }
   ],
   "source": [
    "%%bash\n",
    "\n",
    "tadbit model -w ../results/PSC_rep1 \\\n",
    "    --analyze"
   ]
  },
  {
   "cell_type": "code",
   "execution_count": 6,
   "metadata": {},
   "outputs": [
    {
     "name": "stdout",
     "output_type": "stream",
     "text": [
      "a66efe4b3f.json\n",
      "a66efe4b3f.models\n",
      "a66efe4b3f_accessibility.dat\n",
      "a66efe4b3f_accessibility.pdf\n",
      "a66efe4b3f_clusters.pdf\n",
      "a66efe4b3f_consistency.dat\n",
      "a66efe4b3f_consistency.pdf\n",
      "a66efe4b3f_contact.dat\n",
      "a66efe4b3f_corre_real.pdf\n",
      "a66efe4b3f_density.dat\n",
      "a66efe4b3f_density.pdf\n",
      "a66efe4b3f_interactions.dat\n",
      "a66efe4b3f_interactions.pdf\n",
      "a66efe4b3f_obj-func.pdf\n",
      "a66efe4b3f_pL.dat\n",
      "a66efe4b3f_wang.dat\n",
      "a66efe4b3f_wang.pdf\n",
      "a66efe4b3f_zscores.pdf\n",
      "cfg_250_0.6_-0.8_0.01\n",
      "models\n"
     ]
    }
   ],
   "source": [
    "%%bash\n",
    "\n",
    "ls ../results/PSC_rep1/07_model/a66efe4b3f_chr3_3396-3545/"
   ]
  },
  {
   "cell_type": "markdown",
   "metadata": {},
   "source": [
    "### B cell"
   ]
  },
  {
   "cell_type": "code",
   "execution_count": 7,
   "metadata": {},
   "outputs": [
    {
     "name": "stdout",
     "output_type": "stream",
     "text": [
      ",-----------------.\n",
      "| MODELED_REGIONs |\n",
      ",----.-------.-------.--------.------------.--------.-------.-------.\n",
      "| Id | JOBid |  Type | PATHid |  PARAM_md5 |   RESO |   BEG |   END |\n",
      "|----+-------+-------+--------+------------+--------+-------+-------|\n",
      "|  1 |    17 | OPTIM |     49 | adf8bdcee7 | 10,000 | 3,395 | 3,545 |\n",
      "'----^-------^-------^--------^------------^--------^-------^-------'\n"
     ]
    }
   ],
   "source": [
    "%%bash\n",
    "\n",
    "tadbit describe -w ../results/B_rep1/ -t 13"
   ]
  },
  {
   "cell_type": "code",
   "execution_count": 8,
   "metadata": {},
   "outputs": [
    {
     "name": "stderr",
     "output_type": "stream",
     "text": [
      "     o Loading Hi-C matrix\n",
      "\n",
      "        Modeling\n",
      "********\n",
      "\n",
      "          - Region: Chromosome chr3 from 33950000 to 35450000 at resolution 10 kb (150 particles)\n",
      "\n",
      "     o Loading optimized parameters\n",
      "Loaded UpFreq:  -0.8 LowFreq:   -1.4 MaxDist:    175 scale:  0.01 cutoff:      4 Correlation:nan\n",
      "       1/1        -0.8    -1.4     175   0.01     2.0 | 0.6373\n"
     ]
    }
   ],
   "source": [
    "%%bash\n",
    "\n",
    "tadbit model -w ../results/B_rep1/ \\\n",
    "    --reso 10000 \\\n",
    "    --crm chr3 \\\n",
    "    --beg 33950000 --end 35450000 \\\n",
    "    --nmodels 2000 --nkeep 1000 \\\n",
    "    --cpu 16 \\\n",
    "    --jobid 16 \\\n",
    "    --model"
   ]
  },
  {
   "cell_type": "code",
   "execution_count": 9,
   "metadata": {},
   "outputs": [
    {
     "name": "stdout",
     "output_type": "stream",
     "text": [
      ",-----------------.\n",
      "| MODELED_REGIONs |\n",
      ",----.-------.-------.--------.------------.--------.-------.-------.\n",
      "| Id | JOBid |  Type | PATHid |  PARAM_md5 |   RESO |   BEG |   END |\n",
      "|----+-------+-------+--------+------------+--------+-------+-------|\n",
      "|  1 |    17 | OPTIM |     49 | adf8bdcee7 | 10,000 | 3,395 | 3,545 |\n",
      "|  2 |    18 | MODEL |     62 | 42d6ff17ca | 10,000 | 3,395 | 3,545 |\n",
      "'----^-------^-------^--------^------------^--------^-------^-------'\n"
     ]
    }
   ],
   "source": [
    "%%bash\n",
    "\n",
    "tadbit describe -w ../results/B_rep1/ -t 13"
   ]
  },
  {
   "cell_type": "code",
   "execution_count": 10,
   "metadata": {},
   "outputs": [
    {
     "name": "stdout",
     "output_type": "stream",
     "text": [
      "Number of singletons excluded from clustering: 281 (total singletons: 306)\n",
      "Total number of clusters: 187\n",
      "   Cluster #1 has 27 models [top model: 777]\n",
      "   Cluster #2 has 19 models [top model: 1495]\n",
      "   Cluster #3 has 15 models [top model: 1641]\n",
      "   Cluster #4 has 12 models [top model: 1372]\n",
      "   Cluster #5 has 11 models [top model: 689]\n",
      "   Cluster #6 has 10 models [top model: 1367]\n",
      "   Cluster #7 has 10 models [top model: 1532]\n",
      "   Cluster #8 has 9 models [top model: 235]\n",
      "   Cluster #9 has 9 models [top model: 856]\n",
      "   Cluster #10 has 9 models [top model: 807]\n",
      "   Cluster #11 has 8 models [top model: 1315]\n",
      "   Cluster #12 has 8 models [top model: 668]\n",
      "   Cluster #13 has 8 models [top model: 470]\n",
      "   Cluster #14 has 8 models [top model: 716]\n",
      "   Cluster #15 has 8 models [top model: 1327]\n",
      "   Cluster #16 has 8 models [top model: 147]\n",
      "   Cluster #17 has 8 models [top model: 1542]\n",
      "   Cluster #18 has 7 models [top model: 1165]\n",
      "   Cluster #19 has 7 models [top model: 1266]\n",
      "   Cluster #20 has 7 models [top model: 1752]\n",
      "   Cluster #21 has 6 models [top model: 1648]\n",
      "   Cluster #22 has 6 models [top model: 1739]\n",
      "   Cluster #23 has 6 models [top model: 748]\n",
      "   Cluster #24 has 6 models [top model: 1927]\n",
      "   Cluster #25 has 5 models [top model: 1571]\n",
      "   Cluster #26 has 5 models [top model: 1437]\n",
      "   Cluster #27 has 5 models [top model: 197]\n",
      "   Cluster #28 has 5 models [top model: 557]\n",
      "   Cluster #29 has 5 models [top model: 899]\n",
      "   Cluster #30 has 5 models [top model: 569]\n",
      "   Cluster #31 has 5 models [top model: 115]\n",
      "   Cluster #32 has 5 models [top model: 1902]\n",
      "   Cluster #33 has 5 models [top model: 927]\n",
      "   Cluster #34 has 5 models [top model: 838]\n",
      "   Cluster #35 has 5 models [top model: 1714]\n",
      "   Cluster #36 has 4 models [top model: 1909]\n",
      "   Cluster #37 has 4 models [top model: 616]\n",
      "   Cluster #38 has 4 models [top model: 1182]\n",
      "   Cluster #39 has 4 models [top model: 559]\n",
      "   Cluster #40 has 4 models [top model: 1653]\n",
      "   Cluster #41 has 4 models [top model: 720]\n",
      "   Cluster #42 has 4 models [top model: 174]\n",
      "   Cluster #43 has 4 models [top model: 189]\n",
      "   Cluster #44 has 4 models [top model: 1750]\n",
      "   Cluster #45 has 4 models [top model: 172]\n",
      "   Cluster #46 has 4 models [top model: 593]\n",
      "   Cluster #47 has 4 models [top model: 20]\n",
      "   Cluster #48 has 4 models [top model: 127]\n",
      "   Cluster #49 has 4 models [top model: 1525]\n",
      "   Cluster #50 has 4 models [top model: 384]\n",
      "   Cluster #51 has 4 models [top model: 622]\n",
      "   Cluster #52 has 4 models [top model: 1506]\n",
      "   Cluster #53 has 4 models [top model: 1142]\n",
      "   Cluster #54 has 4 models [top model: 1712]\n",
      "   Cluster #55 has 4 models [top model: 1946]\n",
      "   Cluster #56 has 4 models [top model: 1942]\n",
      "   Cluster #57 has 4 models [top model: 1841]\n",
      "   Cluster #58 has 4 models [top model: 919]\n",
      "   Cluster #59 has 4 models [top model: 1505]\n",
      "   Cluster #60 has 4 models [top model: 1387]\n",
      "   Cluster #61 has 4 models [top model: 1273]\n",
      "   Cluster #62 has 4 models [top model: 1138]\n",
      "   Cluster #63 has 4 models [top model: 756]\n",
      "   Cluster #64 has 4 models [top model: 1857]\n",
      "   Cluster #65 has 4 models [top model: 1487]\n",
      "   Cluster #66 has 3 models [top model: 298]\n",
      "   Cluster #67 has 3 models [top model: 979]\n",
      "   Cluster #68 has 3 models [top model: 1001]\n",
      "   Cluster #69 has 3 models [top model: 1126]\n",
      "   Cluster #70 has 3 models [top model: 369]\n",
      "   Cluster #71 has 3 models [top model: 317]\n",
      "   Cluster #72 has 3 models [top model: 1892]\n",
      "   Cluster #73 has 3 models [top model: 635]\n",
      "   Cluster #74 has 3 models [top model: 1335]\n",
      "   Cluster #75 has 3 models [top model: 711]\n",
      "   Cluster #76 has 3 models [top model: 278]\n",
      "   Cluster #77 has 3 models [top model: 1867]\n",
      "   Cluster #78 has 3 models [top model: 1422]\n",
      "   Cluster #79 has 3 models [top model: 969]\n",
      "   Cluster #80 has 3 models [top model: 659]\n",
      "   Cluster #81 has 3 models [top model: 138]\n",
      "   Cluster #82 has 3 models [top model: 1042]\n",
      "   Cluster #83 has 3 models [top model: 1621]\n",
      "   Cluster #84 has 3 models [top model: 1617]\n",
      "   Cluster #85 has 3 models [top model: 1298]\n",
      "   Cluster #86 has 3 models [top model: 754]\n",
      "   Cluster #87 has 3 models [top model: 444]\n",
      "   Cluster #88 has 3 models [top model: 978]\n",
      "   Cluster #89 has 3 models [top model: 1481]\n",
      "   Cluster #90 has 3 models [top model: 954]\n",
      "   Cluster #91 has 3 models [top model: 1829]\n",
      "   Cluster #92 has 3 models [top model: 1738]\n",
      "   Cluster #93 has 3 models [top model: 1139]\n",
      "   Cluster #94 has 3 models [top model: 91]\n",
      "   Cluster #95 has 3 models [top model: 211]\n",
      "   Cluster #96 has 3 models [top model: 101]\n",
      "   Cluster #97 has 3 models [top model: 1480]\n",
      "   Cluster #98 has 3 models [top model: 1155]\n",
      "   Cluster #99 has 3 models [top model: 324]\n",
      "   Cluster #100 has 3 models [top model: 1978]\n",
      "   Cluster #101 has 3 models [top model: 859]\n",
      "   Cluster #102 has 3 models [top model: 958]\n",
      "   Cluster #103 has 3 models [top model: 1265]\n",
      "   Cluster #104 has 3 models [top model: 274]\n",
      "   Cluster #105 has 3 models [top model: 912]\n",
      "   Cluster #106 has 3 models [top model: 1868]\n",
      "   Cluster #107 has 3 models [top model: 1464]\n",
      "   Cluster #108 has 3 models [top model: 776]\n",
      "   Cluster #109 has 2 models [top model: 1751]\n",
      "   Cluster #110 has 2 models [top model: 1350]\n",
      "   Cluster #111 has 2 models [top model: 220]\n",
      "   Cluster #112 has 2 models [top model: 767]\n",
      "   Cluster #113 has 2 models [top model: 1465]\n",
      "   Cluster #114 has 2 models [top model: 1074]\n",
      "   Cluster #115 has 2 models [top model: 1974]\n",
      "   Cluster #116 has 2 models [top model: 924]\n",
      "   Cluster #117 has 2 models [top model: 985]\n",
      "   Cluster #118 has 2 models [top model: 1280]\n",
      "   Cluster #119 has 2 models [top model: 73]\n",
      "   Cluster #120 has 2 models [top model: 1570]\n",
      "   Cluster #121 has 2 models [top model: 598]\n",
      "   Cluster #122 has 2 models [top model: 1433]\n",
      "   Cluster #123 has 2 models [top model: 672]\n",
      "   Cluster #124 has 2 models [top model: 17]\n",
      "   Cluster #125 has 2 models [top model: 1549]\n",
      "   Cluster #126 has 2 models [top model: 1596]\n",
      "   Cluster #127 has 2 models [top model: 1225]\n",
      "   Cluster #128 has 2 models [top model: 304]\n",
      "   Cluster #129 has 2 models [top model: 264]\n",
      "   Cluster #130 has 2 models [top model: 892]\n",
      "   Cluster #131 has 2 models [top model: 1645]\n",
      "   Cluster #132 has 2 models [top model: 1536]\n",
      "   Cluster #133 has 2 models [top model: 802]\n",
      "   Cluster #134 has 2 models [top model: 964]\n",
      "   Cluster #135 has 2 models [top model: 1449]\n",
      "   Cluster #136 has 2 models [top model: 1658]\n",
      "   Cluster #137 has 2 models [top model: 242]\n",
      "   Cluster #138 has 2 models [top model: 939]\n",
      "   Cluster #139 has 2 models [top model: 532]\n",
      "   Cluster #140 has 2 models [top model: 1717]\n",
      "   Cluster #141 has 2 models [top model: 608]\n",
      "   Cluster #142 has 2 models [top model: 1818]\n",
      "   Cluster #143 has 2 models [top model: 1371]\n",
      "   Cluster #144 has 2 models [top model: 790]\n",
      "   Cluster #145 has 2 models [top model: 788]\n",
      "   Cluster #146 has 2 models [top model: 1]\n",
      "   Cluster #147 has 2 models [top model: 1684]\n",
      "   Cluster #148 has 2 models [top model: 1860]\n",
      "   Cluster #149 has 2 models [top model: 1960]\n",
      "   Cluster #150 has 2 models [top model: 1833]\n",
      "   Cluster #151 has 2 models [top model: 1649]\n",
      "   Cluster #152 has 2 models [top model: 1100]\n",
      "   Cluster #153 has 2 models [top model: 1566]\n",
      "   Cluster #154 has 2 models [top model: 1467]\n",
      "   Cluster #155 has 2 models [top model: 1324]\n",
      "   Cluster #156 has 2 models [top model: 501]\n",
      "   Cluster #157 has 2 models [top model: 1014]\n",
      "   Cluster #158 has 2 models [top model: 1708]\n",
      "   Cluster #159 has 2 models [top model: 116]\n",
      "   Cluster #160 has 2 models [top model: 722]\n",
      "   Cluster #161 has 2 models [top model: 1743]\n",
      "   Cluster #162 has 2 models [top model: 1528]\n",
      "   Cluster #163 has 2 models [top model: 58]\n",
      "   Cluster #164 has 2 models [top model: 445]\n",
      "   Cluster #165 has 2 models [top model: 1713]\n",
      "   Cluster #166 has 2 models [top model: 5]\n",
      "   Cluster #167 has 2 models [top model: 1272]\n",
      "   Cluster #168 has 2 models [top model: 823]\n",
      "   Cluster #169 has 2 models [top model: 1580]\n",
      "   Cluster #170 has 2 models [top model: 469]\n",
      "   Cluster #171 has 2 models [top model: 761]\n",
      "   Cluster #172 has 2 models [top model: 1746]\n",
      "   Cluster #173 has 2 models [top model: 141]\n",
      "   Cluster #174 has 2 models [top model: 1361]\n",
      "   Cluster #175 has 2 models [top model: 1504]\n",
      "   Cluster #176 has 2 models [top model: 1707]\n",
      "   Cluster #177 has 2 models [top model: 760]\n",
      "   Cluster #178 has 2 models [top model: 950]\n",
      "   Cluster #179 has 2 models [top model: 514]\n",
      "   Cluster #180 has 2 models [top model: 1827]\n",
      "   Cluster #181 has 2 models [top model: 1409]\n",
      "   Cluster #182 has 2 models [top model: 599]\n",
      "   Cluster #183 has 2 models [top model: 1151]\n",
      "   Cluster #184 has 2 models [top model: 294]\n",
      "   Cluster #185 has 2 models [top model: 1311]\n",
      "   Cluster #186 has 2 models [top model: 1768]\n",
      "   Cluster #187 has 2 models [top model: 874]\n",
      "\n"
     ]
    },
    {
     "name": "stderr",
     "output_type": "stream",
     "text": [
      "\n",
      "        Analysis\n",
      "\n",
      "          - Region: Chromosome chr3 from 3396 to 3545 at resolution 10 kb (150 particles)\n",
      "            \n",
      "\tCorrelation with data...\n",
      "\t Correlation coefficient: 0.6372552436760913 [p-value: 0.0]\n",
      "\tZ-score plot...\n",
      "\tClustering all models into sets of structurally similar models...\n",
      "   fact = 0.95\n",
      "      cutoff = 100.0\n",
      "\tSaving again the models this time with clusters...\n",
      "/scratch/3DAROC21/miniconda2/envs/tadbit/lib/python3.7/site-packages/pytadbit/modelling/structuralmodels.py:2593: UserWarning: WARNING: chrom_start variable wasn't set, setting it to the position in the experiment matrix (33950000)\n",
      "  if isinstance(my_descr['start'], list) else my_descr['start'])))\n",
      "/scratch/3DAROC21/miniconda2/envs/tadbit/lib/python3.7/site-packages/pytadbit/modelling/structuralmodels.py:2599: UserWarning: WARNING: chrom_end variable wasn't set, setting it to the position in the experiment matrix (35450000)\n",
      "  if isinstance(my_descr['end'], list) else my_descr['end'])))\n",
      "\t\tWriting models, list and chimera files...\n",
      "\t\tCluster #1 has 27 models ['777', '1514', '1915', '708', '573', '1686', '1931', '1068', '1304', '1233', '1114', '246', '1945', '1894', '1108', '592', '727', '871', '1046', '546', '1398', '1761', '914', '35', '1344', '351', '852']\n",
      "\t\tCluster #2 has 19 models ['1495', '1161', '1767', '676', '85', '1951', '1958', '1876', '1455', '908', '1306', '1339', '1244', '1051', '1271', '1778', '1453', '271', '46']\n",
      "\t\tCluster #3 has 15 models ['1641', '258', '1568', '1804', '335', '1200', '480', '248', '829', '1812', '1965', '473', '1840', '896', '416']\n",
      "\t\tCluster #4 has 12 models ['1372', '489', '1178', '1405', '1188', '1664', '1373', '843', '1377', '1059', '36', '466']\n",
      "\t\tCluster #5 has 11 models ['689', '1797', '1274', '318', '614', '742', '1853', '1292', '1117', '228', '1092']\n",
      "\t\tCluster #6 has 10 models ['1367', '1839', '1736', '495', '399', '966', '891', '502', '967', '1848']\n",
      "\t\tCluster #7 has 10 models ['1532', '1267', '1386', '262', '1106', '340', '1999', '1281', '1777', '1994']\n",
      "\t\tCluster #8 has 9 models ['235', '45', '1968', '496', '709', '329', '632', '577', '31']\n",
      "\t\tCluster #9 has 9 models ['856', '269', '330', '429', '876', '1758', '1665', '1008', '327']\n",
      "\t\tCluster #10 has 9 models ['807', '129', '1610', '1320', '1217', '1224', '1160', '931', '201']\n",
      "\t\tCluster #11 has 8 models ['1315', '190', '565', '1843', '150', '1310', '1851', '740']\n",
      "\t\tCluster #12 has 8 models ['668', '352', '1211', '1316', '982', '1662', '1226', '1079']\n",
      "\t\tCluster #13 has 8 models ['470', '1538', '1406', '830', '1866', '1143', '839', '1661']\n",
      "\t\tCluster #14 has 8 models ['716', '763', '850', '56', '877', '661', '739', '1531']\n",
      "\t\tCluster #15 has 8 models ['1327', '887', '1133', '1573', '637', '731', '1644', '1723']\n",
      "\t\tCluster #16 has 8 models ['147', '1652', '1485', '13', '446', '1637', '563', '1820']\n",
      "\t\tCluster #17 has 8 models ['1542', '956', '1103', '1198', '402', '1303', '625', '370']\n",
      "\t\tCluster #18 has 7 models ['1165', '986', '507', '831', '1671', '1221', '667']\n",
      "\t\tCluster #19 has 7 models ['1266', '1365', '758', '434', '1553', '69', '66']\n",
      "\t\tCluster #20 has 7 models ['1752', '1995', '498', '1242', '630', '1885', '692']\n",
      "\t\tCluster #21 has 6 models ['1648', '1016', '529', '218', '68', '1428']\n",
      "\t\tCluster #22 has 6 models ['1739', '311', '1725', '209', '1252', '1572']\n",
      "\t\tCluster #23 has 6 models ['748', '957', '154', '1471', '1889', '137']\n",
      "\t\tCluster #24 has 6 models ['1927', '1814', '1436', '193', '443', '1600']\n",
      "\t\tCluster #25 has 5 models ['1571', '1562', '1642', '78', '1858']\n",
      "\t\tCluster #26 has 5 models ['1437', '1911', '579', '1692', '373']\n",
      "\t\tCluster #27 has 5 models ['197', '1715', '884', '1604', '1983']\n",
      "\t\tCluster #28 has 5 models ['557', '372', '1404', '1702', '450']\n",
      "\t\tCluster #29 has 5 models ['899', '988', '1329', '1880', '815']\n",
      "\t\tCluster #30 has 5 models ['569', '448', '1129', '55', '1011']\n",
      "\t\tCluster #31 has 5 models ['115', '562', '123', '152', '1456']\n",
      "\t\tCluster #32 has 5 models ['1902', '1535', '358', '280', '750']\n",
      "\t\tCluster #33 has 5 models ['927', '1490', '356', '1414', '1088']\n",
      "\t\tCluster #34 has 5 models ['838', '1660', '436', '561', '553']\n",
      "\t\tCluster #35 has 5 models ['1714', '187', '1523', '937', '1183']\n",
      "\t\tCluster #36 has 4 models ['1909', '1730', '1588', '2000']\n",
      "\t\tCluster #37 has 4 models ['616', '845', '1380', '194']\n",
      "\t\tCluster #38 has 4 models ['1182', '1278', '118', '1082']\n",
      "\t\tCluster #39 has 4 models ['559', '186', '1676', '401']\n",
      "\t\tCluster #40 has 4 models ['1653', '1547', '1672', '698']\n",
      "\t\tCluster #41 has 4 models ['720', '1527', '1484', '1890']\n",
      "\t\tCluster #42 has 4 models ['174', '265', '253', '359']\n",
      "\t\tCluster #43 has 4 models ['189', '200', '397', '215']\n",
      "\t\tCluster #44 has 4 models ['1750', '1062', '1118', '1512']\n",
      "\t\tCluster #45 has 4 models ['172', '508', '879', '617']\n",
      "\t\tCluster #46 has 4 models ['593', '1044', '794', '297']\n",
      "\t\tCluster #47 has 4 models ['20', '1928', '836', '1018']\n",
      "\t\tCluster #48 has 4 models ['127', '524', '82', '1479']\n",
      "\t\tCluster #49 has 4 models ['1525', '846', '1586', '1956']\n",
      "\t\tCluster #50 has 4 models ['384', '1961', '503', '1560']\n",
      "\t\tCluster #51 has 4 models ['622', '825', '1919', '1419']\n",
      "\t\tCluster #52 has 4 models ['1506', '1056', '1541', '893']\n",
      "\t\tCluster #53 has 4 models ['1142', '1989', '1287', '1147']\n",
      "\t\tCluster #54 has 4 models ['1712', '1060', '315', '22']\n",
      "\t\tCluster #55 has 4 models ['1946', '1590', '725', '1239']\n",
      "\t\tCluster #56 has 4 models ['1942', '1359', '1472', '212']\n",
      "\t\tCluster #57 has 4 models ['1841', '1057', '406', '753']\n",
      "\t\tCluster #58 has 4 models ['919', '707', '849', '435']\n",
      "\t\tCluster #59 has 4 models ['1505', '1953', '376', '650']\n",
      "\t\tCluster #60 has 4 models ['1387', '1881', '415', '1601']\n",
      "\t\tCluster #61 has 4 models ['1273', '1599', '1401', '999']\n",
      "\t\tCluster #62 has 4 models ['1138', '1845', '1116', '1313']\n",
      "\t\tCluster #63 has 4 models ['756', '509', '295', '1879']\n",
      "\t\tCluster #64 has 4 models ['1857', '1269', '458', '10']\n",
      "\t\tCluster #65 has 4 models ['1487', '107', '1207', '350']\n",
      "\t\tCluster #66 has 3 models ['298', '1992', '977']\n",
      "\t\tCluster #67 has 3 models ['979', '1895', '670']\n",
      "\t\tCluster #68 has 3 models ['1001', '1067', '799']\n",
      "\t\tCluster #69 has 3 models ['1126', '192', '1698']\n",
      "\t\tCluster #70 has 3 models ['369', '757', '1897']\n",
      "\t\tCluster #71 has 3 models ['317', '224', '62']\n",
      "\t\tCluster #72 has 3 models ['1892', '179', '1195']\n",
      "\t\tCluster #73 has 3 models ['635', '136', '1828']\n",
      "\t\tCluster #74 has 3 models ['1335', '239', '1678']\n",
      "\t\tCluster #75 has 3 models ['711', '1098', '1852']\n",
      "\t\tCluster #76 has 3 models ['278', '558', '103']\n",
      "\t\tCluster #77 has 3 models ['1867', '1546', '970']\n",
      "\t\tCluster #78 has 3 models ['1422', '1084', '1312']\n",
      "\t\tCluster #79 has 3 models ['969', '787', '882']\n",
      "\t\tCluster #80 has 3 models ['659', '925', '21']\n",
      "\t\tCluster #81 has 3 models ['138', '1985', '87']\n",
      "\t\tCluster #82 has 3 models ['1042', '1786', '595']\n",
      "\t\tCluster #83 has 3 models ['1621', '660', '70']\n",
      "\t\tCluster #84 has 3 models ['1617', '747', '407']\n",
      "\t\tCluster #85 has 3 models ['1298', '517', '1582']\n",
      "\t\tCluster #86 has 3 models ['754', '284', '566']\n",
      "\t\tCluster #87 has 3 models ['444', '400', '277']\n",
      "\t\tCluster #88 has 3 models ['978', '528', '1810']\n",
      "\t\tCluster #89 has 3 models ['1481', '146', '666']\n",
      "\t\tCluster #90 has 3 models ['954', '1623', '263']\n",
      "\t\tCluster #91 has 3 models ['1829', '268', '451']\n",
      "\t\tCluster #92 has 3 models ['1738', '1020', '821']\n",
      "\t\tCluster #93 has 3 models ['1139', '1507', '79']\n",
      "\t\tCluster #94 has 3 models ['91', '64', '1509']\n",
      "\t\tCluster #95 has 3 models ['211', '1326', '1930']\n",
      "\t\tCluster #96 has 3 models ['101', '658', '97']\n",
      "\t\tCluster #97 has 3 models ['1480', '1783', '1247']\n",
      "\t\tCluster #98 has 3 models ['1155', '1967', '673']\n",
      "\t\tCluster #99 has 3 models ['324', '1631', '1609']\n",
      "\t\tCluster #100 has 3 models ['1978', '1418', '1392']\n",
      "\t\tCluster #101 has 3 models ['859', '4', '1835']\n",
      "\t\tCluster #102 has 3 models ['958', '906', '196']\n",
      "\t\tCluster #103 has 3 models ['1265', '1347', '1634']\n",
      "\t\tCluster #104 has 3 models ['274', '1069', '1576']\n",
      "\t\tCluster #105 has 3 models ['912', '113', '1321']\n",
      "\t\tCluster #106 has 3 models ['1868', '1808', '730']\n",
      "\t\tCluster #107 has 3 models ['1464', '2', '394']\n",
      "\t\tCluster #108 has 3 models ['776', '1366', '1040']\n",
      "\t\tCluster #109 has 2 models ['1751', '611']\n",
      "\t\tCluster #110 has 2 models ['1350', '380']\n",
      "\t\tCluster #111 has 2 models ['220', '1241']\n",
      "\t\tCluster #112 has 2 models ['767', '83']\n",
      "\t\tCluster #113 has 2 models ['1465', '712']\n",
      "\t\tCluster #114 has 2 models ['1074', '1884']\n",
      "\t\tCluster #115 has 2 models ['1974', '1513']\n",
      "\t\tCluster #116 has 2 models ['924', '1795']\n",
      "\t\tCluster #117 has 2 models ['985', '1643']\n",
      "\t\tCluster #118 has 2 models ['1280', '947']\n",
      "\t\tCluster #119 has 2 models ['73', '1716']\n",
      "\t\tCluster #120 has 2 models ['1570', '1749']\n",
      "\t\tCluster #121 has 2 models ['598', '1081']\n",
      "\t\tCluster #122 has 2 models ['1433', '61']\n",
      "\t\tCluster #123 has 2 models ['672', '853']\n",
      "\t\tCluster #124 has 2 models ['17', '214']\n",
      "\t\tCluster #125 has 2 models ['1549', '1222']\n",
      "\t\tCluster #126 has 2 models ['1596', '409']\n",
      "\t\tCluster #127 has 2 models ['1225', '1173']\n",
      "\t\tCluster #128 has 2 models ['304', '1934']\n",
      "\t\tCluster #129 has 2 models ['264', '164']\n",
      "\t\tCluster #130 has 2 models ['892', '949']\n",
      "\t\tCluster #131 has 2 models ['1645', '857']\n",
      "\t\tCluster #132 has 2 models ['1536', '427']\n",
      "\t\tCluster #133 has 2 models ['802', '1375']\n",
      "\t\tCluster #134 has 2 models ['964', '1822']\n",
      "\t\tCluster #135 has 2 models ['1449', '1104']\n",
      "\t\tCluster #136 has 2 models ['1658', '395']\n",
      "\t\tCluster #137 has 2 models ['242', '1132']\n",
      "\t\tCluster #138 has 2 models ['939', '285']\n",
      "\t\tCluster #139 has 2 models ['532', '551']\n",
      "\t\tCluster #140 has 2 models ['1717', '1110']\n",
      "\t\tCluster #141 has 2 models ['608', '952']\n",
      "\t\tCluster #142 has 2 models ['1818', '491']\n",
      "\t\tCluster #143 has 2 models ['1371', '1075']\n",
      "\t\tCluster #144 has 2 models ['790', '1004']\n",
      "\t\tCluster #145 has 2 models ['788', '682']\n",
      "\t\tCluster #146 has 2 models ['1', '219']\n",
      "\t\tCluster #147 has 2 models ['1684', '1800']\n",
      "\t\tCluster #148 has 2 models ['1860', '785']\n",
      "\t\tCluster #149 has 2 models ['1960', '1099']\n",
      "\t\tCluster #150 has 2 models ['1833', '47']\n",
      "\t\tCluster #151 has 2 models ['1649', '302']\n",
      "\t\tCluster #152 has 2 models ['1100', '169']\n",
      "\t\tCluster #153 has 2 models ['1566', '1854']\n",
      "\t\tCluster #154 has 2 models ['1467', '1515']\n",
      "\t\tCluster #155 has 2 models ['1324', '1933']\n",
      "\t\tCluster #156 has 2 models ['501', '1802']\n",
      "\t\tCluster #157 has 2 models ['1014', '1162']\n",
      "\t\tCluster #158 has 2 models ['1708', '848']\n",
      "\t\tCluster #159 has 2 models ['116', '613']\n",
      "\t\tCluster #160 has 2 models ['722', '124']\n",
      "\t\tCluster #161 has 2 models ['1743', '1996']\n",
      "\t\tCluster #162 has 2 models ['1528', '519']\n",
      "\t\tCluster #163 has 2 models ['58', '793']\n",
      "\t\tCluster #164 has 2 models ['445', '1977']\n",
      "\t\tCluster #165 has 2 models ['1713', '1284']\n",
      "\t\tCluster #166 has 2 models ['5', '1815']\n",
      "\t\tCluster #167 has 2 models ['1272', '296']\n",
      "\t\tCluster #168 has 2 models ['823', '618']\n",
      "\t\tCluster #169 has 2 models ['1580', '1288']\n",
      "\t\tCluster #170 has 2 models ['469', '1585']\n",
      "\t\tCluster #171 has 2 models ['761', '953']\n",
      "\t\tCluster #172 has 2 models ['1746', '1646']\n",
      "\t\tCluster #173 has 2 models ['141', '646']\n",
      "\t\tCluster #174 has 2 models ['1361', '1201']\n",
      "\t\tCluster #175 has 2 models ['1504', '583']\n",
      "\t\tCluster #176 has 2 models ['1707', '1199']\n",
      "\t\tCluster #177 has 2 models ['760', '1694']\n",
      "\t\tCluster #178 has 2 models ['950', '1729']\n",
      "\t\tCluster #179 has 2 models ['514', '1726']\n",
      "\t\tCluster #180 has 2 models ['1827', '229']\n",
      "\t\tCluster #181 has 2 models ['1409', '1450']\n",
      "\t\tCluster #182 has 2 models ['599', '1923']\n",
      "\t\tCluster #183 has 2 models ['1151', '1740']\n",
      "\t\tCluster #184 has 2 models ['294', '1789']\n",
      "\t\tCluster #185 has 2 models ['1311', '1174']\n",
      "\t\tCluster #186 has 2 models ['1768', '54']\n",
      "\t\tCluster #187 has 2 models ['874', '1578']\n",
      "\t\tSingletons has 306 models ['1669', '1300', '1696', '1440', '1776', '571', '1629', '9', '1605', '1990', '1048', '1323', '1774', '454', '612', '642', '897', '33', '1417', '1769', '512', '207', '1944', '941', '803', '688', '1780', '1089', '1912', '281', '1047', '1805', '1886', '51', '1058', '833', '1724', '457', '724', '1666', '840', '1816', '930', '440', '1023', '1402', '1286', '93', '1291', '1846', '303', '530', '1878', '52', '27', '1877', '225', '1027', '920', '1747', '492', '1732', '1762', '867', '238', '1348', '1675', '481', '1618', '1202', '800', '1699', '744', '873', '1922', '1787', '159', '1010', '1529', '677', '1363', '678', '1299', '1517', '279', '404', '1540', '516', '1179', '232', '1005', '1003', '1575', '779', '1253', '588', '1140', '16', '1899', '410', '1438', '1719', '806', '1427', '687', '1163', '864', '386', '1172', '396', '783', '1095', '241', '1191', '1859', '918', '188', '997', '289', '385', '1094', '1932', '1526', '383', '570', '354', '1333', '1611', '1842', '1393', '1285', '1728', '552', '1231', '955', '1351', '1533', '1622', '1552', '1083', '1229', '1608', '981', '928', '1737', '1189', '1598', '1037', '1741', '1993', '1597', '1837', '835', '834', '1308', '1064', '1482', '25', '42', '575', '766', '745', '648', '771', '184', '177', '1636', '594', '1473', '1496', '655', '1705', '1700', '1980', '260', '321', '1794', '1439', '649', '1771', '414', '1627', '1791', '1893', '1638', '938', '23', '65', '1766', '195', '1131', '1872', '1146', '1973', '77', '572', '98', '1530', '362', '497', '1976', '1539', '624', '126', '1260', '389', '1136', '540', '1354', '1793', '178', '1061', '153', '1476', '751', '375', '1007', '1457', '131', '1403', '15', '490', '1798', '652', '604', '1396', '586', '1756', '1407', '841', '1424', '895', '679', '1734', '173', '1632', '1537', '1050', '1025', '1232', '629', '1254', '675', '732', '63', '965', '217', '647', '1470', '1691', '143', '537', '1863', '476', '669', '339', '122', '547', '1964', '348', '868', '1452', '417', '388', '1258', '18', '1255', '50', '1127', '620', '1293', '1184', '628', '112', '71', '67', '447', '30', '1411', '130', '1693', '463', '121', '1397', '791', '1257', '1581', '686', '1071', '1289', '885', '1563', '723', '772', '287', '307', '1249', '1193', '74', '775', '1594', '1383', '493', '936', '1493', '875']\n",
      "\tPlotting objective function decay for vbest model...\n",
      "\tGetting centroid...\n",
      "\t\tThe model centroid (closest to the average) for cluster 1 is: 10\n",
      "\tGetting consistency data...\n",
      "\tGetting density data...\n",
      "\tGetting a contact map...\n",
      "\tGetting angle data...\n",
      "\tGetting persistence length data...\n",
      "\tGetting accessibility data...\n",
      "\tGetting accessibility data (this can take long)...\n",
      "\tGetting interaction data...\n"
     ]
    }
   ],
   "source": [
    "%%bash\n",
    "\n",
    "tadbit model -w ../results/B_rep1 \\\n",
    "    --analyze"
   ]
  },
  {
   "cell_type": "code",
   "execution_count": 11,
   "metadata": {},
   "outputs": [
    {
     "name": "stdout",
     "output_type": "stream",
     "text": [
      "42d6ff17ca.json\n",
      "42d6ff17ca.models\n",
      "42d6ff17ca_accessibility.dat\n",
      "42d6ff17ca_accessibility.pdf\n",
      "42d6ff17ca_clusters.pdf\n",
      "42d6ff17ca_consistency.dat\n",
      "42d6ff17ca_consistency.pdf\n",
      "42d6ff17ca_contact.dat\n",
      "42d6ff17ca_corre_real.pdf\n",
      "42d6ff17ca_density.dat\n",
      "42d6ff17ca_density.pdf\n",
      "42d6ff17ca_interactions.dat\n",
      "42d6ff17ca_interactions.pdf\n",
      "42d6ff17ca_obj-func.pdf\n",
      "42d6ff17ca_pL.dat\n",
      "42d6ff17ca_wang.dat\n",
      "42d6ff17ca_wang.pdf\n",
      "42d6ff17ca_zscores.pdf\n",
      "cfg_175_-0.8_-1.4_0.01\n",
      "models\n"
     ]
    }
   ],
   "source": [
    "%%bash\n",
    "\n",
    "ls ../results/B_rep1/07_model/42d6ff17ca_chr3_3396-3545/"
   ]
  },
  {
   "cell_type": "markdown",
   "metadata": {},
   "source": [
    "### Structural models analysis\n",
    "\n",
    "The first task of the `--analysis` flag is to compute subpopulations of structures by clustering the ensemble by similarity using the Markov Cluster Algorithm (MCL). The analysis dendogram allows us to view the different clusters population and their OF values."
   ]
  },
  {
   "cell_type": "code",
   "execution_count": 2,
   "metadata": {},
   "outputs": [],
   "source": [
    "from IPython.display import IFrame"
   ]
  },
  {
   "cell_type": "code",
   "execution_count": 15,
   "metadata": {},
   "outputs": [
    {
     "data": {
      "text/html": [
       "\n",
       "        <iframe\n",
       "            width=\"900\"\n",
       "            height=\"800\"\n",
       "            src=\"../results/PSC_rep1/07_model/a66efe4b3f_chr3_3396-3545/a66efe4b3f_clusters.pdf\"\n",
       "            frameborder=\"0\"\n",
       "            allowfullscreen\n",
       "        ></iframe>\n",
       "        "
      ],
      "text/plain": [
       "<IPython.lib.display.IFrame at 0x7fc76886e6d0>"
      ]
     },
     "execution_count": 15,
     "metadata": {},
     "output_type": "execute_result"
    }
   ],
   "source": [
    "IFrame(\"../results/PSC_rep1/07_model/a66efe4b3f_chr3_3396-3545/a66efe4b3f_clusters.pdf\", width=900, height=800)"
   ]
  },
  {
   "cell_type": "code",
   "execution_count": 14,
   "metadata": {},
   "outputs": [
    {
     "data": {
      "text/html": [
       "\n",
       "        <iframe\n",
       "            width=\"900\"\n",
       "            height=\"800\"\n",
       "            src=\"../results/B_rep1/07_model/42d6ff17ca_chr3_3396-3545/42d6ff17ca_clusters.pdf\"\n",
       "            frameborder=\"0\"\n",
       "            allowfullscreen\n",
       "        ></iframe>\n",
       "        "
      ],
      "text/plain": [
       "<IPython.lib.display.IFrame at 0x7fc76886e250>"
      ]
     },
     "execution_count": 14,
     "metadata": {},
     "output_type": "execute_result"
    }
   ],
   "source": [
    "IFrame(\"../results/B_rep1/07_model/42d6ff17ca_chr3_3396-3545/42d6ff17ca_clusters.pdf\", width=900, height=800)"
   ]
  },
  {
   "cell_type": "markdown",
   "metadata": {},
   "source": [
    "Inside the `models` subfolder we find the coordinates of all the models in xyz and Chimera (https://www.cgl.ucsf.edu/chimera/) format organized by clusters."
   ]
  },
  {
   "cell_type": "code",
   "execution_count": 16,
   "metadata": {},
   "outputs": [
    {
     "name": "stdout",
     "output_type": "stream",
     "text": [
      "Singletons\n",
      "Singletons.lst\n",
      "Singletons_superimpose.cmd\n",
      "best.cmm\n",
      "best.xyz\n",
      "centroid.cmm\n",
      "centroid.xyz\n",
      "cl_1\n",
      "cl_1.lst\n",
      "cl_10\n",
      "cl_10.lst\n",
      "cl_10_superimpose.cmd\n",
      "cl_11\n",
      "cl_11.lst\n",
      "cl_11_superimpose.cmd\n",
      "cl_12\n",
      "cl_12.lst\n",
      "cl_12_superimpose.cmd\n",
      "cl_13\n",
      "cl_13.lst\n",
      "cl_13_superimpose.cmd\n",
      "cl_14\n",
      "cl_14.lst\n",
      "cl_14_superimpose.cmd\n",
      "cl_15\n",
      "cl_15.lst\n",
      "cl_15_superimpose.cmd\n",
      "cl_16\n",
      "cl_16.lst\n",
      "cl_16_superimpose.cmd\n",
      "cl_17\n",
      "cl_17.lst\n",
      "cl_17_superimpose.cmd\n",
      "cl_18\n",
      "cl_18.lst\n",
      "cl_18_superimpose.cmd\n",
      "cl_19\n",
      "cl_19.lst\n",
      "cl_19_superimpose.cmd\n",
      "cl_1_superimpose.cmd\n",
      "cl_2\n",
      "cl_2.lst\n",
      "cl_20\n",
      "cl_20.lst\n",
      "cl_20_superimpose.cmd\n",
      "cl_21\n",
      "cl_21.lst\n",
      "cl_21_superimpose.cmd\n",
      "cl_22\n",
      "cl_22.lst\n",
      "cl_22_superimpose.cmd\n",
      "cl_23\n",
      "cl_23.lst\n",
      "cl_23_superimpose.cmd\n",
      "cl_24\n",
      "cl_24.lst\n",
      "cl_24_superimpose.cmd\n",
      "cl_25\n",
      "cl_25.lst\n",
      "cl_25_superimpose.cmd\n",
      "cl_26\n",
      "cl_26.lst\n",
      "cl_26_superimpose.cmd\n",
      "cl_27\n",
      "cl_27.lst\n",
      "cl_27_superimpose.cmd\n",
      "cl_28\n",
      "cl_28.lst\n",
      "cl_28_superimpose.cmd\n",
      "cl_29\n",
      "cl_29.lst\n",
      "cl_29_superimpose.cmd\n",
      "cl_2_superimpose.cmd\n",
      "cl_3\n",
      "cl_3.lst\n",
      "cl_30\n",
      "cl_30.lst\n",
      "cl_30_superimpose.cmd\n",
      "cl_31\n",
      "cl_31.lst\n",
      "cl_31_superimpose.cmd\n",
      "cl_32\n",
      "cl_32.lst\n",
      "cl_32_superimpose.cmd\n",
      "cl_33\n",
      "cl_33.lst\n",
      "cl_33_superimpose.cmd\n",
      "cl_34\n",
      "cl_34.lst\n",
      "cl_34_superimpose.cmd\n",
      "cl_35\n",
      "cl_35.lst\n",
      "cl_35_superimpose.cmd\n",
      "cl_36\n",
      "cl_36.lst\n",
      "cl_36_superimpose.cmd\n",
      "cl_37\n",
      "cl_37.lst\n",
      "cl_37_superimpose.cmd\n",
      "cl_38\n",
      "cl_38.lst\n",
      "cl_38_superimpose.cmd\n",
      "cl_39\n",
      "cl_39.lst\n",
      "cl_39_superimpose.cmd\n",
      "cl_3_superimpose.cmd\n",
      "cl_4\n",
      "cl_4.lst\n",
      "cl_40\n",
      "cl_40.lst\n",
      "cl_40_superimpose.cmd\n",
      "cl_41\n",
      "cl_41.lst\n",
      "cl_41_superimpose.cmd\n",
      "cl_42\n",
      "cl_42.lst\n",
      "cl_42_superimpose.cmd\n",
      "cl_43\n",
      "cl_43.lst\n",
      "cl_43_superimpose.cmd\n",
      "cl_44\n",
      "cl_44.lst\n",
      "cl_44_superimpose.cmd\n",
      "cl_45\n",
      "cl_45.lst\n",
      "cl_45_superimpose.cmd\n",
      "cl_46\n",
      "cl_46.lst\n",
      "cl_46_superimpose.cmd\n",
      "cl_47\n",
      "cl_47.lst\n",
      "cl_47_superimpose.cmd\n",
      "cl_48\n",
      "cl_48.lst\n",
      "cl_48_superimpose.cmd\n",
      "cl_49\n",
      "cl_49.lst\n",
      "cl_49_superimpose.cmd\n",
      "cl_4_superimpose.cmd\n",
      "cl_5\n",
      "cl_5.lst\n",
      "cl_50\n",
      "cl_50.lst\n",
      "cl_50_superimpose.cmd\n",
      "cl_51\n",
      "cl_51.lst\n",
      "cl_51_superimpose.cmd\n",
      "cl_52\n",
      "cl_52.lst\n",
      "cl_52_superimpose.cmd\n",
      "cl_53\n",
      "cl_53.lst\n",
      "cl_53_superimpose.cmd\n",
      "cl_54\n",
      "cl_54.lst\n",
      "cl_54_superimpose.cmd\n",
      "cl_55\n",
      "cl_55.lst\n",
      "cl_55_superimpose.cmd\n",
      "cl_56\n",
      "cl_56.lst\n",
      "cl_56_superimpose.cmd\n",
      "cl_57\n",
      "cl_57.lst\n",
      "cl_57_superimpose.cmd\n",
      "cl_58\n",
      "cl_58.lst\n",
      "cl_58_superimpose.cmd\n",
      "cl_59\n",
      "cl_59.lst\n",
      "cl_59_superimpose.cmd\n",
      "cl_5_superimpose.cmd\n",
      "cl_6\n",
      "cl_6.lst\n",
      "cl_60\n",
      "cl_60.lst\n",
      "cl_60_superimpose.cmd\n",
      "cl_61\n",
      "cl_61.lst\n",
      "cl_61_superimpose.cmd\n",
      "cl_62\n",
      "cl_62.lst\n",
      "cl_62_superimpose.cmd\n",
      "cl_63\n",
      "cl_63.lst\n",
      "cl_63_superimpose.cmd\n",
      "cl_64\n",
      "cl_64.lst\n",
      "cl_64_superimpose.cmd\n",
      "cl_65\n",
      "cl_65.lst\n",
      "cl_65_superimpose.cmd\n",
      "cl_66\n",
      "cl_66.lst\n",
      "cl_66_superimpose.cmd\n",
      "cl_67\n",
      "cl_67.lst\n",
      "cl_67_superimpose.cmd\n",
      "cl_68\n",
      "cl_68.lst\n",
      "cl_68_superimpose.cmd\n",
      "cl_69\n",
      "cl_69.lst\n",
      "cl_69_superimpose.cmd\n",
      "cl_6_superimpose.cmd\n",
      "cl_7\n",
      "cl_7.lst\n",
      "cl_70\n",
      "cl_70.lst\n",
      "cl_70_superimpose.cmd\n",
      "cl_71\n",
      "cl_71.lst\n",
      "cl_71_superimpose.cmd\n",
      "cl_72\n",
      "cl_72.lst\n",
      "cl_72_superimpose.cmd\n",
      "cl_73\n",
      "cl_73.lst\n",
      "cl_73_superimpose.cmd\n",
      "cl_74\n",
      "cl_74.lst\n",
      "cl_74_superimpose.cmd\n",
      "cl_75\n",
      "cl_75.lst\n",
      "cl_75_superimpose.cmd\n",
      "cl_76\n",
      "cl_76.lst\n",
      "cl_76_superimpose.cmd\n",
      "cl_77\n",
      "cl_77.lst\n",
      "cl_77_superimpose.cmd\n",
      "cl_7_superimpose.cmd\n",
      "cl_8\n",
      "cl_8.lst\n",
      "cl_8_superimpose.cmd\n",
      "cl_9\n",
      "cl_9.lst\n",
      "cl_9_superimpose.cmd\n"
     ]
    }
   ],
   "source": [
    "%%bash\n",
    "\n",
    "ls ../results/PSC_rep1/07_model/a66efe4b3f_chr3_3396-3545/models/"
   ]
  },
  {
   "cell_type": "code",
   "execution_count": 17,
   "metadata": {},
   "outputs": [
    {
     "name": "stdout",
     "output_type": "stream",
     "text": [
      "# ASSEMBLY        :  None\n",
      "# CELL TYPE       :  None\n",
      "# CHROMOSOME      :  chr3\n",
      "# END             :  35450000\n",
      "# EXPERIMENT TYPE :  Hi-C\n",
      "# IDENTIFIER      :  None\n",
      "# PROJECT         :  None\n",
      "# RESOLUTION      :  10000\n",
      "# RESTRICTION ENZYME :  None\n",
      "# SPECIES         :  UNKNOWN\n",
      "# START           :  33950000\n",
      "1\tchr3:33953396-33963395\t-497.769\t-9996.501\t481.934\n",
      "2\tchr3:33963396-33973395\t-520.384\t-9977.995\t569.415\n",
      "3\tchr3:33973396-33983395\t-415.309\t-10021.954\t509.441\n"
     ]
    }
   ],
   "source": [
    "%%bash\n",
    "\n",
    "head ../results/PSC_rep1/07_model/a66efe4b3f_chr3_3396-3545/models/centroid.xyz -n 14"
   ]
  },
  {
   "cell_type": "code",
   "execution_count": 20,
   "metadata": {},
   "outputs": [
    {
     "data": {
      "image/png": "[encoded data removed]",
      "text/plain": [
       "<Figure size 576x576 with 1 Axes>"
      ]
     },
     "metadata": {
      "needs_background": "light"
     },
     "output_type": "display_data"
    },
    {
     "data": {
      "image/png": "[encoded data removed]",
      "text/plain": [
       "<Figure size 576x576 with 1 Axes>"
      ]
     },
     "metadata": {
      "needs_background": "light"
     },
     "output_type": "display_data"
    }
   ],
   "source": [
    "from pytadbit.utils.extraviews      import plot_3d_model\n",
    "import numpy as np\n",
    "\n",
    "centroid = np.loadtxt(\"../results/PSC_rep1/07_model/a66efe4b3f_chr3_3396-3545/models/centroid.xyz\",\n",
    "                     usecols=[2,3,4])\n",
    "\n",
    "x, y, z = centroid[:,0], centroid[:,1], centroid[:,2]\n",
    "plot_3d_model(x, y, z, particle_size=50, alpha_part=0.7, azimuth=20, elevation=100.)\n",
    "\n",
    "centroid = np.loadtxt(\"../results/B_rep1/07_model/42d6ff17ca_chr3_3396-3545/models/centroid.xyz\",\n",
    "                     usecols=[2,3,4])\n",
    "\n",
    "x, y, z = centroid[:,0], centroid[:,1], centroid[:,2]\n",
    "plot_3d_model(x, y, z, particle_size=50, alpha_part=0.7, azimuth=75, elevation=100.)"
   ]
  },
  {
   "cell_type": "markdown",
   "metadata": {},
   "source": [
    "The z-score plot shows how the Hi-C values converted to z-scores are applied as restraints:"
   ]
  },
  {
   "cell_type": "code",
   "execution_count": 3,
   "metadata": {},
   "outputs": [
    {
     "data": {
      "text/html": [
       "\n",
       "        <iframe\n",
       "            width=\"900\"\n",
       "            height=\"600\"\n",
       "            src=\"../results/PSC_rep1/07_model/a66efe4b3f_chr3_3396-3545/a66efe4b3f_zscores.pdf\"\n",
       "            frameborder=\"0\"\n",
       "            allowfullscreen\n",
       "        ></iframe>\n",
       "        "
      ],
      "text/plain": [
       "<IPython.lib.display.IFrame at 0x7fb5b17b75d0>"
      ]
     },
     "execution_count": 3,
     "metadata": {},
     "output_type": "execute_result"
    }
   ],
   "source": [
    "IFrame(\"../results/PSC_rep1/07_model/a66efe4b3f_chr3_3396-3545/a66efe4b3f_zscores.pdf\", width=900, height=600)"
   ]
  },
  {
   "cell_type": "code",
   "execution_count": 22,
   "metadata": {},
   "outputs": [
    {
     "data": {
      "text/html": [
       "\n",
       "        <iframe\n",
       "            width=\"900\"\n",
       "            height=\"300\"\n",
       "            src=\"../results/B_rep1/07_model/42d6ff17ca_chr3_3396-3545/42d6ff17ca_zscores.pdf\"\n",
       "            frameborder=\"0\"\n",
       "            allowfullscreen\n",
       "        ></iframe>\n",
       "        "
      ],
      "text/plain": [
       "<IPython.lib.display.IFrame at 0x7fc7504e7750>"
      ]
     },
     "execution_count": 22,
     "metadata": {},
     "output_type": "execute_result"
    }
   ],
   "source": [
    "IFrame(\"../results/B_rep1/07_model/42d6ff17ca_chr3_3396-3545/42d6ff17ca_zscores.pdf\", width=900, height=300)"
   ]
  },
  {
   "cell_type": "markdown",
   "metadata": {},
   "source": [
    "The IMP objective function (OF) of the model that best satisfies the imposed restraints during the Monte Carlo optimization:"
   ]
  },
  {
   "cell_type": "code",
   "execution_count": 25,
   "metadata": {},
   "outputs": [
    {
     "data": {
      "text/html": [
       "\n",
       "        <iframe\n",
       "            width=\"800\"\n",
       "            height=\"800\"\n",
       "            src=\"../results/PSC_rep1/07_model/a66efe4b3f_chr3_3396-3545/a66efe4b3f_obj-func.pdf\"\n",
       "            frameborder=\"0\"\n",
       "            allowfullscreen\n",
       "        ></iframe>\n",
       "        "
      ],
      "text/plain": [
       "<IPython.lib.display.IFrame at 0x7fc7504e76d0>"
      ]
     },
     "execution_count": 25,
     "metadata": {},
     "output_type": "execute_result"
    }
   ],
   "source": [
    "IFrame(\"../results/PSC_rep1/07_model/a66efe4b3f_chr3_3396-3545/a66efe4b3f_obj-func.pdf\", width=800, height=800)"
   ]
  },
  {
   "cell_type": "markdown",
   "metadata": {},
   "source": [
    "We can check the correlation of models with the original HiC matrix in the correlation plot. \n",
    "\n",
    "In the plot \"Real vs modelled data\" we should see a positive correlation of the contacts in the models with the frequency of interaction of the pairs of beads in the HiC matrix. High interaction frequency between two loci in the matrix is reflected by the fact of having a high proportion of models where the beads representing those two loci are \"in contact\" (distance lower than the cutoff). "
   ]
  },
  {
   "cell_type": "code",
   "execution_count": 26,
   "metadata": {},
   "outputs": [
    {
     "data": {
      "text/html": [
       "\n",
       "        <iframe\n",
       "            width=\"900\"\n",
       "            height=\"350\"\n",
       "            src=\"../results/PSC_rep1/07_model/a66efe4b3f_chr3_3396-3545/a66efe4b3f_corre_real.pdf\"\n",
       "            frameborder=\"0\"\n",
       "            allowfullscreen\n",
       "        ></iframe>\n",
       "        "
      ],
      "text/plain": [
       "<IPython.lib.display.IFrame at 0x7fc7504e7a10>"
      ]
     },
     "execution_count": 26,
     "metadata": {},
     "output_type": "execute_result"
    }
   ],
   "source": [
    "IFrame(\"../results/PSC_rep1/07_model/a66efe4b3f_chr3_3396-3545/a66efe4b3f_corre_real.pdf\", width=900, height=350)"
   ]
  },
  {
   "cell_type": "code",
   "execution_count": 27,
   "metadata": {},
   "outputs": [
    {
     "data": {
      "text/html": [
       "\n",
       "        <iframe\n",
       "            width=\"900\"\n",
       "            height=\"350\"\n",
       "            src=\"../results/B_rep1/07_model/42d6ff17ca_chr3_3396-3545/42d6ff17ca_corre_real.pdf\"\n",
       "            frameborder=\"0\"\n",
       "            allowfullscreen\n",
       "        ></iframe>\n",
       "        "
      ],
      "text/plain": [
       "<IPython.lib.display.IFrame at 0x7fc7504e7810>"
      ]
     },
     "execution_count": 27,
     "metadata": {},
     "output_type": "execute_result"
    }
   ],
   "source": [
    "IFrame(\"../results/B_rep1/07_model/42d6ff17ca_chr3_3396-3545/42d6ff17ca_corre_real.pdf\", width=900, height=350)"
   ]
  },
  {
   "cell_type": "markdown",
   "metadata": {},
   "source": [
    "Model consistency gives a measure of the variability of the particles accross a set of models. Particles in the same position accross different models are considered consistent if their distance is less than the given cutoff."
   ]
  },
  {
   "cell_type": "code",
   "execution_count": 28,
   "metadata": {},
   "outputs": [
    {
     "data": {
      "text/html": [
       "\n",
       "        <iframe\n",
       "            width=\"900\"\n",
       "            height=\"400\"\n",
       "            src=\"../results/PSC_rep1/07_model/a66efe4b3f_chr3_3396-3545/a66efe4b3f_consistency.pdf\"\n",
       "            frameborder=\"0\"\n",
       "            allowfullscreen\n",
       "        ></iframe>\n",
       "        "
      ],
      "text/plain": [
       "<IPython.lib.display.IFrame at 0x7fc7504e79d0>"
      ]
     },
     "execution_count": 28,
     "metadata": {},
     "output_type": "execute_result"
    }
   ],
   "source": [
    "IFrame(\"../results/PSC_rep1/07_model/a66efe4b3f_chr3_3396-3545/a66efe4b3f_consistency.pdf\", width=900, height=400)"
   ]
  },
  {
   "cell_type": "code",
   "execution_count": 29,
   "metadata": {},
   "outputs": [
    {
     "data": {
      "text/html": [
       "\n",
       "        <iframe\n",
       "            width=\"900\"\n",
       "            height=\"400\"\n",
       "            src=\"../results/B_rep1/07_model/42d6ff17ca_chr3_3396-3545/42d6ff17ca_consistency.pdf\"\n",
       "            frameborder=\"0\"\n",
       "            allowfullscreen\n",
       "        ></iframe>\n",
       "        "
      ],
      "text/plain": [
       "<IPython.lib.display.IFrame at 0x7fc7504e7b10>"
      ]
     },
     "execution_count": 29,
     "metadata": {},
     "output_type": "execute_result"
    }
   ],
   "source": [
    "IFrame(\"../results/B_rep1/07_model/42d6ff17ca_chr3_3396-3545/42d6ff17ca_consistency.pdf\", width=900, height=400)"
   ]
  },
  {
   "cell_type": "markdown",
   "metadata": {},
   "source": [
    "From the 3D models, the DNA density (or local compactness) can be calculated as the ratio of the bin size (in base pairs) and the distances between consequtive particles in the models. The higher the density the more compact DNA for the region. As this measure varies dramatically from particle to particle, one can calculate it using running averages.\n",
    "</p>\n",
    "<p>\n",
    "In the modelling we have used a scale of 0.01 nm/bp; that means that if we expect 100 bp/nm of chromatin in each bead and between two consecutives beads.\n",
    "<br style=\"clear: both;\" />\n",
    "</p>\n"
   ]
  },
  {
   "cell_type": "code",
   "execution_count": 31,
   "metadata": {},
   "outputs": [
    {
     "data": {
      "text/html": [
       "\n",
       "        <iframe\n",
       "            width=\"900\"\n",
       "            height=\"400\"\n",
       "            src=\"../results/PSC_rep1/07_model/a66efe4b3f_chr3_3396-3545/a66efe4b3f_density.pdf\"\n",
       "            frameborder=\"0\"\n",
       "            allowfullscreen\n",
       "        ></iframe>\n",
       "        "
      ],
      "text/plain": [
       "<IPython.lib.display.IFrame at 0x7fc7504e7910>"
      ]
     },
     "execution_count": 31,
     "metadata": {},
     "output_type": "execute_result"
    }
   ],
   "source": [
    "IFrame(\"../results/PSC_rep1/07_model/a66efe4b3f_chr3_3396-3545/a66efe4b3f_density.pdf\", width=900, height=400)"
   ]
  },
  {
   "cell_type": "code",
   "execution_count": 32,
   "metadata": {},
   "outputs": [
    {
     "data": {
      "text/html": [
       "\n",
       "        <iframe\n",
       "            width=\"900\"\n",
       "            height=\"400\"\n",
       "            src=\"../results/B_rep1/07_model/42d6ff17ca_chr3_3396-3545/42d6ff17ca_density.pdf\"\n",
       "            frameborder=\"0\"\n",
       "            allowfullscreen\n",
       "        ></iframe>\n",
       "        "
      ],
      "text/plain": [
       "<IPython.lib.display.IFrame at 0x7fc7504e7dd0>"
      ]
     },
     "execution_count": 32,
     "metadata": {},
     "output_type": "execute_result"
    }
   ],
   "source": [
    "IFrame(\"../results/B_rep1/07_model/42d6ff17ca_chr3_3396-3545/42d6ff17ca_density.pdf\", width=900, height=400)"
   ]
  },
  {
   "cell_type": "markdown",
   "metadata": {},
   "source": [
    "<p>\n",
    "Walking_angle plots the angle between triplets of contiguous particles. The higher are these values the straighter are the models.\n",
    "</p>"
   ]
  },
  {
   "cell_type": "code",
   "execution_count": 33,
   "metadata": {},
   "outputs": [
    {
     "data": {
      "text/html": [
       "\n",
       "        <iframe\n",
       "            width=\"900\"\n",
       "            height=\"400\"\n",
       "            src=\"../results/PSC_rep1/07_model/a66efe4b3f_chr3_3396-3545/a66efe4b3f_wang.pdf\"\n",
       "            frameborder=\"0\"\n",
       "            allowfullscreen\n",
       "        ></iframe>\n",
       "        "
      ],
      "text/plain": [
       "<IPython.lib.display.IFrame at 0x7fc7504e7890>"
      ]
     },
     "execution_count": 33,
     "metadata": {},
     "output_type": "execute_result"
    }
   ],
   "source": [
    "IFrame(\"../results/PSC_rep1/07_model/a66efe4b3f_chr3_3396-3545/a66efe4b3f_wang.pdf\", width=900, height=400)"
   ]
  },
  {
   "cell_type": "code",
   "execution_count": 34,
   "metadata": {},
   "outputs": [
    {
     "data": {
      "text/html": [
       "\n",
       "        <iframe\n",
       "            width=\"900\"\n",
       "            height=\"400\"\n",
       "            src=\"../results/B_rep1/07_model/42d6ff17ca_chr3_3396-3545/42d6ff17ca_wang.pdf\"\n",
       "            frameborder=\"0\"\n",
       "            allowfullscreen\n",
       "        ></iframe>\n",
       "        "
      ],
      "text/plain": [
       "<IPython.lib.display.IFrame at 0x7fc7504e7e50>"
      ]
     },
     "execution_count": 34,
     "metadata": {},
     "output_type": "execute_result"
    }
   ],
   "source": [
    "IFrame(\"../results/B_rep1/07_model/42d6ff17ca_chr3_3396-3545/42d6ff17ca_wang.pdf\", width=900, height=400)"
   ]
  },
  {
   "cell_type": "markdown",
   "metadata": {},
   "source": [
    "<p>\n",
    "Interactions plot (particles closer than the given cutoff)\n",
    "</p>"
   ]
  },
  {
   "cell_type": "code",
   "execution_count": 35,
   "metadata": {},
   "outputs": [
    {
     "data": {
      "text/html": [
       "\n",
       "        <iframe\n",
       "            width=\"900\"\n",
       "            height=\"400\"\n",
       "            src=\"../results/PSC_rep1/07_model/a66efe4b3f_chr3_3396-3545/a66efe4b3f_interactions.pdf\"\n",
       "            frameborder=\"0\"\n",
       "            allowfullscreen\n",
       "        ></iframe>\n",
       "        "
      ],
      "text/plain": [
       "<IPython.lib.display.IFrame at 0x7fc7504e7d90>"
      ]
     },
     "execution_count": 35,
     "metadata": {},
     "output_type": "execute_result"
    }
   ],
   "source": [
    "IFrame(\"../results/PSC_rep1/07_model/a66efe4b3f_chr3_3396-3545/a66efe4b3f_interactions.pdf\", width=900, height=400)"
   ]
  },
  {
   "cell_type": "code",
   "execution_count": 36,
   "metadata": {},
   "outputs": [
    {
     "data": {
      "text/html": [
       "\n",
       "        <iframe\n",
       "            width=\"900\"\n",
       "            height=\"400\"\n",
       "            src=\"../results/B_rep1/07_model/42d6ff17ca_chr3_3396-3545/42d6ff17ca_interactions.pdf\"\n",
       "            frameborder=\"0\"\n",
       "            allowfullscreen\n",
       "        ></iframe>\n",
       "        "
      ],
      "text/plain": [
       "<IPython.lib.display.IFrame at 0x7fc7504e7ed0>"
      ]
     },
     "execution_count": 36,
     "metadata": {},
     "output_type": "execute_result"
    }
   ],
   "source": [
    "IFrame(\"../results/B_rep1/07_model/42d6ff17ca_chr3_3396-3545/42d6ff17ca_interactions.pdf\", width=900, height=400)"
   ]
  },
  {
   "cell_type": "markdown",
   "metadata": {},
   "source": [
    "<p>\n",
    "The accessibility is calculated by considering a mesh surface around the model and checking if each point of this mesh could be replaced by an object (i.e. a protein) represented as a sphere of a given radius.\n",
    "</p>\n",
    "<p>\n",
    "Outer part of the model can be excluded from the estimation of accessible surface because contacts from this outer part to particles outside the model are unknown. To exclude the outer contour a sphere with a higher radius (superradius) is first tested in the mesh before proceding to the accessibility calculation.\n",
    "</p>"
   ]
  },
  {
   "cell_type": "code",
   "execution_count": 37,
   "metadata": {},
   "outputs": [
    {
     "data": {
      "text/html": [
       "\n",
       "        <iframe\n",
       "            width=\"900\"\n",
       "            height=\"400\"\n",
       "            src=\"../results/PSC_rep1/07_model/a66efe4b3f_chr3_3396-3545/a66efe4b3f_accessibility.pdf\"\n",
       "            frameborder=\"0\"\n",
       "            allowfullscreen\n",
       "        ></iframe>\n",
       "        "
      ],
      "text/plain": [
       "<IPython.lib.display.IFrame at 0x7fc7504e7fd0>"
      ]
     },
     "execution_count": 37,
     "metadata": {},
     "output_type": "execute_result"
    }
   ],
   "source": [
    "IFrame(\"../results/PSC_rep1/07_model/a66efe4b3f_chr3_3396-3545/a66efe4b3f_accessibility.pdf\", width=900, height=400)"
   ]
  },
  {
   "cell_type": "code",
   "execution_count": 38,
   "metadata": {},
   "outputs": [
    {
     "data": {
      "text/html": [
       "\n",
       "        <iframe\n",
       "            width=\"900\"\n",
       "            height=\"400\"\n",
       "            src=\"../results/B_rep1/07_model/42d6ff17ca_chr3_3396-3545/42d6ff17ca_accessibility.pdf\"\n",
       "            frameborder=\"0\"\n",
       "            allowfullscreen\n",
       "        ></iframe>\n",
       "        "
      ],
      "text/plain": [
       "<IPython.lib.display.IFrame at 0x7fc76886e2d0>"
      ]
     },
     "execution_count": 38,
     "metadata": {},
     "output_type": "execute_result"
    }
   ],
   "source": [
    "IFrame(\"../results/B_rep1/07_model/42d6ff17ca_chr3_3396-3545/42d6ff17ca_accessibility.pdf\", width=900, height=400)"
   ]
  },
  {
   "cell_type": "markdown",
   "metadata": {},
   "source": [
    "### Questions\n",
    "\n",
    "- Would you expect that running TADbit twice with the same parameters leads to the same set of models? Why yes? Why no?\n",
    "- Can you comment on the conditions in which the TADbit models may result in highly variable or highly consistent structures?\n",
    "- Can you comment on the main structural differences between the models obtained in B-cells and PSC?"
   ]
  }
 ],
 "metadata": {
  "kernelspec": {
   "display_name": "Python 2",
   "language": "python",
   "name": "python2"
  },
  "language_info": {
   "codemirror_mode": {
    "name": "ipython",
    "version": 2
   },
   "file_extension": ".py",
   "mimetype": "text/x-python",
   "name": "python",
   "nbconvert_exporter": "python",
   "pygments_lexer": "ipython2",
   "version": "2.7.15"
  },
  "notify_time": "5",
  "toc": {
   "base_numbering": 1,
   "nav_menu": {},
   "number_sections": false,
   "sideBar": true,
   "skip_h1_title": false,
   "title_cell": "Table of Contents",
   "title_sidebar": "Contents",
   "toc_cell": false,
   "toc_position": {
    "height": "calc(100% - 180px)",
    "left": "10px",
    "top": "150px",
    "width": "165px"
   },
   "toc_section_display": true,
   "toc_window_display": true
  }
 },
 "nbformat": 4,
 "nbformat_minor": 1
}
