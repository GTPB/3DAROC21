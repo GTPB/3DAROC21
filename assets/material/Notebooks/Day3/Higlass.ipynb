{
 "cells": [
  {
   "cell_type": "markdown",
   "id": "2efb9cf9",
   "metadata": {},
   "source": [
    "## Higlass viewer"
   ]
  },
  {
   "cell_type": "markdown",
   "id": "f2b9c5b9",
   "metadata": {},
   "source": [
    "<a name=\"ref-1\"/>[Higlass](#cite-higlass) is nowadays the best, according to the writter of this notebook, visualization tool for Hi-C matrices. An online instance of Higlass can be used here https://higlass.io/, but the use of user data would require a full installation of Higlass in a web server.\n",
    "\n",
    "There is however a jupyter plugin (https://docs.higlass.io/jupyter.html) and a python package that we can use to display our data. To load the matrices into higlass we are going to export our matrix to a format compatible with higlass like cooler. \n",
    "\n",
    "The `tadbit export` will generate a cooler matrix that we will then visualize with a local instance of Higlass."
   ]
  },
  {
   "cell_type": "code",
   "execution_count": 1,
   "id": "0578ccf8",
   "metadata": {},
   "outputs": [
    {
     "name": "stdout",
     "output_type": "stream",
     "text": [
      "\n",
      "Extraction of full genome\n",
      "Getting and writing matrix to cooler format                                    [2021-10-05 18:40:54]\n",
      "\n",
      "  (Matrix size 6390x6390)                                                      [2021-10-05 18:40:54]\n",
      "\n",
      "  - Parsing BAM (100 chunks)                                                   [2021-10-05 18:40:54]\n",
      "     .......... .......... .......... .......... ..........     50/100\n",
      "     .......... .......... .......... .......... ..........    100/100\n",
      "\n",
      "  - Writing matrices                                                           [2021-10-05 18:41:06]\n",
      "     .......... .......... .......... .......... ..........     50/100\n",
      "     .......... .......... .......... .......... ..........    100/100\n",
      "\n",
      "Building cooler zoom 50000                                                     [2021-10-05 18:41:20]\n",
      "\n",
      "  (Matrix size 3195x3195)                                                      [2021-10-05 18:41:20]\n",
      "\n",
      "  - Parsing BAM (100 chunks)                                                   [2021-10-05 18:41:21]\n",
      "     .......... .......... .......... .......... ..........     50/100\n",
      "     .......... .......... .......... .......... ..........    100/100\n",
      "\n",
      "  - Writing matrices                                                           [2021-10-05 18:41:26]\n",
      "     .......... .......... .......... .......... ..........     50/100\n",
      "     .......... .......... .......... .......... ..........    100/100\n",
      "\n",
      "Building cooler zoom 100000                                                    [2021-10-05 18:41:36]\n",
      "\n",
      "  (Matrix size 1598x1598)                                                      [2021-10-05 18:41:36]\n",
      "\n",
      "  - Parsing BAM (100 chunks)                                                   [2021-10-05 18:41:36]\n",
      "     .......... .......... .......... .......... ..........     50/100\n",
      "     .......... .......... .......... .......... ..........    100/100\n",
      "\n",
      "  - Writing matrices                                                           [2021-10-05 18:41:40]\n",
      "     .......... .......... .......... .......... ..........     50/100\n",
      "     .......... .......... .......... .......... ..........    100/100\n",
      "\n",
      "Building cooler zoom 250000                                                    [2021-10-05 18:41:45]\n",
      "\n",
      "  (Matrix size 639x639)                                                        [2021-10-05 18:41:45]\n",
      "\n",
      "  - Parsing BAM (92 chunks)                                                    [2021-10-05 18:41:45]\n",
      "     .......... .......... .......... .......... ..........      50/92\n",
      "     .......... .......... .......... .......... ..              92/92\n",
      "\n",
      "  - Writing matrices                                                           [2021-10-05 18:41:48]\n",
      "     .......... .......... .......... .......... ..........      50/92\n",
      "     .......... .......... .......... .......... ..              92/92\n",
      "\n",
      "Building cooler zoom 500000                                                    [2021-10-05 18:41:51]\n",
      "\n",
      "  (Matrix size 320x320)                                                        [2021-10-05 18:41:51]\n",
      "\n",
      "  - Parsing BAM (80 chunks)                                                    [2021-10-05 18:41:51]\n",
      "     .......... .......... .......... .......... ..........      50/80\n",
      "     .......... .......... ..........                            80/80\n",
      "\n",
      "  - Writing matrices                                                           [2021-10-05 18:41:54]\n",
      "     .......... .......... .......... .......... ..........      50/80\n",
      "     .......... .......... ..........                            80/80\n",
      "\n",
      "Building cooler zoom 1000000                                                   [2021-10-05 18:41:56]\n",
      "\n",
      "  (Matrix size 160x160)                                                        [2021-10-05 18:41:56]\n",
      "\n",
      "  - Parsing BAM (80 chunks)                                                    [2021-10-05 18:41:56]\n",
      "     .......... .......... .......... .......... ..........      50/80\n",
      "     .......... .......... ..........                            80/80\n",
      "\n",
      "  - Writing matrices                                                           [2021-10-05 18:41:58]\n",
      "     .......... .......... .......... .......... ..........      50/80\n",
      "     .......... .......... ..........                            80/80\n",
      "\n",
      "Building cooler zoom 2500000                                                   [2021-10-05 18:42:00]\n",
      "\n",
      "  (Matrix size 64x64)                                                          [2021-10-05 18:42:00]\n",
      "\n",
      "  - Parsing BAM (64 chunks)                                                    [2021-10-05 18:42:00]\n",
      "     .......... .......... .......... .......... ..........      50/64\n",
      "     .......... ....                                             64/64\n",
      "\n",
      "  - Writing matrices                                                           [2021-10-05 18:42:03]\n",
      "     .......... .......... .......... .......... ..........      50/64\n",
      "     .......... ....                                             64/64\n",
      "\n",
      "Building cooler zoom 5000000                                                   [2021-10-05 18:42:04]\n",
      "\n",
      "  (Matrix size 32x32)                                                          [2021-10-05 18:42:04]\n",
      "\n",
      "  - Parsing BAM (32 chunks)                                                    [2021-10-05 18:42:04]\n",
      "     .......... .......... .......... ..                         32/32\n",
      "\n",
      "  - Writing matrices                                                           [2021-10-05 18:42:07]\n",
      "     .......... .......... .......... ..                         32/32\n",
      "\n",
      "Building cooler zoom 10000000                                                  [2021-10-05 18:42:08]\n",
      "\n",
      "  (Matrix size 16x16)                                                          [2021-10-05 18:42:08]\n",
      "\n",
      "  - Parsing BAM (16 chunks)                                                    [2021-10-05 18:42:08]\n",
      "     .......... ......                                           16/16\n",
      "\n",
      "  - Writing matrices                                                           [2021-10-05 18:42:11]\n",
      "     .......... ......                                           16/16\n",
      "\n",
      "Cleaning                                                                       [2021-10-05 18:42:11]\n"
     ]
    }
   ],
   "source": [
    "%%bash\n",
    "\n",
    "tadbit export -w ../results/B_rep1/ \\\n",
    "    --format cooler \\\n",
    "    -r 25000 \\\n",
    "    -o ../results/B_rep1_export_cooler.mcool"
   ]
  },
  {
   "cell_type": "code",
   "execution_count": 1,
   "id": "1dddf38d",
   "metadata": {},
   "outputs": [],
   "source": [
    "import higlass\n",
    "import higlass.client as hgc\n",
    "import higlass.tilesets as hgti\n",
    "from higlass.client import View, Track"
   ]
  },
  {
   "cell_type": "code",
   "execution_count": 3,
   "id": "4602f850",
   "metadata": {},
   "outputs": [],
   "source": [
    "ts_tadbit = hgti.cooler('../results/B_rep1_export_cooler.mcool')\n",
    "tr_tadbit = hgc.Track('heatmap',\n",
    "                      tileset=ts_tadbit,\n",
    "                      height=500,\n",
    "                      width=500,\n",
    "                      options={'assembly':'mm10'}\n",
    "                     )\n",
    "\n",
    "chromsizes_fp = '../refGenome/genmap/mappability/mm39_chr3.genmap.chrom.sizes'\n",
    "cs = hgti.chromsizes(chromsizes_fp)\n",
    "\n",
    "tr0 = Track('horizontal-chromosome-labels', position='top', tileset=cs)\n",
    "tr1 = Track('vertical-chromosome-labels', position='left', tileset=cs)\n",
    "view1 = hgc.View(tracks=[tr0,tr1,tr_tadbit],\n",
    "                 initialXDomain=[0,150000000],\n",
    "                 initialYDomain=[0,150000000])\n",
    "(display, server, viewconf) = higlass.display([view1], server_port=54998)"
   ]
  },
  {
   "cell_type": "code",
   "execution_count": 4,
   "id": "83fe0fa7",
   "metadata": {
    "scrolled": false
   },
   "outputs": [
    {
     "data": {
      "application/vnd.jupyter.widget-view+json": {
       "model_id": "a1d65f918dfb40e38894fb067d5ceccf",
       "version_major": 2,
       "version_minor": 0
      },
      "text/plain": [
       "HiGlassDisplay(viewconf={'editable': True, 'views': [{'uid': 'PMFPbfN8Qx6bWsmhpdywxQ', 'tracks': {'top': [{'ty…"
      ]
     },
     "metadata": {},
     "output_type": "display_data"
    }
   ],
   "source": [
    "display"
   ]
  },
  {
   "cell_type": "code",
   "execution_count": 5,
   "id": "c4577973",
   "metadata": {},
   "outputs": [],
   "source": [
    "del(display)\n",
    "del(server)"
   ]
  },
  {
   "cell_type": "code",
   "execution_count": 2,
   "id": "43b829ce",
   "metadata": {},
   "outputs": [],
   "source": [
    "ts_tadbit = hgti.cooler('../data/full_matrix.mcool')\n",
    "tr_tadbit = hgc.Track('heatmap',\n",
    "                      tileset=ts_tadbit,\n",
    "                      height=500,\n",
    "                      width=500,\n",
    "                      options={'assembly':'mm10'}\n",
    "                     )\n",
    "\n",
    "tr2 = Track(server= \"http://higlass.io/api/v1\",\n",
    "            tilesetUid=\"EtrWT0VtScixmsmwFSd7zg\",\n",
    "            type= \"chromosome-labels\", position='top')\n",
    "view1 = hgc.View(tracks=[tr2,tr_tadbit],\n",
    "                 initialXDomain=[0,150000000],\n",
    "                 initialYDomain=[0,150000000])\n",
    "(display, server, viewconf) = higlass.display([view1], server_port=54998)"
   ]
  },
  {
   "cell_type": "code",
   "execution_count": 3,
   "id": "d49d0d5f",
   "metadata": {},
   "outputs": [
    {
     "data": {
      "application/vnd.jupyter.widget-view+json": {
       "model_id": "ea1e11a0ae26492c9b7f47918f24d28a",
       "version_major": 2,
       "version_minor": 0
      },
      "text/plain": [
       "HiGlassDisplay(viewconf={'editable': True, 'views': [{'uid': 'SYaOzqAHQ4yfjeOfTHynaQ', 'tracks': {'top': [{'ty…"
      ]
     },
     "metadata": {},
     "output_type": "display_data"
    }
   ],
   "source": [
    "#chr3:33950000-35450000\n",
    "display"
   ]
  },
  {
   "cell_type": "markdown",
   "id": "e3b38667",
   "metadata": {},
   "source": [
    "### References\n",
    "\n",
    "<a name=\"cite-higlass\"/><sup>[](#ref-1) </sup>Kerpedjiev, P., Abdennur, N., Lekschas, F. et al. _HiGlass: web-based visual exploration and analysis of genome interaction maps_. Genome Biol 19, 125 (2018). https://doi.org/10.1186/s13059-018-1486-1.\n"
   ]
  },
  {
   "cell_type": "code",
   "execution_count": null,
   "id": "af300ff3",
   "metadata": {},
   "outputs": [],
   "source": []
  }
 ],
 "metadata": {
  "kernelspec": {
   "display_name": "Python 3 (ipykernel)",
   "language": "python",
   "name": "python3"
  },
  "language_info": {
   "codemirror_mode": {
    "name": "ipython",
    "version": 3
   },
   "file_extension": ".py",
   "mimetype": "text/x-python",
   "name": "python",
   "nbconvert_exporter": "python",
   "pygments_lexer": "ipython3",
   "version": "3.7.10"
  }
 },
 "nbformat": 4,
 "nbformat_minor": 5
}
