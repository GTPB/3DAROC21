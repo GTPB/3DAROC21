{
 "cells": [
  {
   "cell_type": "markdown",
   "metadata": {},
   "source": [
    "## Hi-C datasets for the course"
   ]
  },
  {
   "cell_type": "markdown",
   "metadata": {},
   "source": [
    "__running time__: < 2 min"
   ]
  },
  {
   "cell_type": "markdown",
   "metadata": {},
   "source": [
    "We will use data from <a name=\"ref-1\"/>[(Stadhouders R, Vidal E, Serra F, Di Stefano B et al. 2018)](#cite-ralph), which comes from mouse cells where Hi-C experiment were conducted in different states during highly-efficient somatic cell reprogramming.\n",
    "\n",
    "The data can be downloaded from:\n",
    "\n",
    "https://www.ncbi.nlm.nih.gov/sra/?linkname=pubmed_sra&from_uid=29335546\n",
    "\n",
    "Once downloaded the files can be converted to the FASTQ format in order for TADbit to read them.\n",
    "\n",
    "The easiest way to download the data might be through the `fastq-dump` program from the SRA Toolkit (http://www.ncbi.nlm.nih.gov/Traces/sra/sra.cgi?cmd=show&f=software&m=software&s=software).\n",
    "\n",
    "We downloaded the first replica of Beta and Pluripotent Stem Cells (4 runs each) and took the first 250 million reads. To reduce even more the size of the files we produced FASTQ files containing only reads from Chromosome 3 and compress them with gzip.\n",
    "\n",
    "The resulting FASTQ files can be found in the FASTQs/ folder:"
   ]
  },
  {
   "cell_type": "code",
   "execution_count": 1,
   "metadata": {},
   "outputs": [
    {
     "name": "stdout",
     "output_type": "stream",
     "text": [
      "total 1.5G\n",
      "-rw-rw-r-- 1 3DAROC21 3DAROC21 732M Sep 15 10:50 B_HiC_rep1_subset_chr3_1.fastq.gz\n",
      "-rw-rw-r-- 1 3DAROC21 3DAROC21 762M Sep 15 10:50 B_HiC_rep1_subset_chr3_2.fastq.gz\n",
      "total 1003M\n",
      "-rw-rw-r-- 1 3DAROC21 3DAROC21 503M Aug 25 08:05 PSC_HiC_rep1_subset_chr3_1.fastq.gz\n",
      "-rw-rw-r-- 1 3DAROC21 3DAROC21 500M Aug 25 08:12 PSC_HiC_rep1_subset_chr3_2.fastq.gz\n"
     ]
    }
   ],
   "source": [
    "%%bash\n",
    "\n",
    "ls -lh ../FASTQs/B\n",
    "ls -lh ../FASTQs/PSC"
   ]
  },
  {
   "cell_type": "markdown",
   "metadata": {},
   "source": [
    "Each file is organized in 4 lines per read:\n",
    " 1. starting with `@`, the header of the DNA sequence with the read id (plus optional fields)\n",
    " 2. the DNA sequence\n",
    " 3. starting with `+`, the header of the sequence quality (this line could be either a repetition of first line or empty)\n",
    " 4. the sequence quality (it is provided as PHRED score and it is not human readable. Check   https://en.wikipedia.org/wiki/Phred_quality_score for more details)"
   ]
  },
  {
   "cell_type": "code",
   "execution_count": 2,
   "metadata": {},
   "outputs": [
    {
     "name": "stdout",
     "output_type": "stream",
     "text": [
      "@SRR5344921.sra.4\n",
      "ACATTTTAATGCCTTTTTAAAAAATATTTCATGCCTGTGTCATAAATCCCTATTGTATTTAGATATCCAACATTT\n",
      "+\n",
      "BBCBBGGGG1FGGGGGGGGGGGGGGGGGFCGFCEGGGF:FDGGGGG=FFGGGGGGCFE1FGEDEGEF>GGGEGFG\n",
      "@SRR5344921.sra.23\n",
      "TTACTCTGATTGAGACATATTGAGGATCGATCCAGCAATACTCTTCCTGCACATATACCTGAATGAAGTTCCAAC\n",
      "+\n",
      "BA?ABCFF1FG>@1E@GGGGG;F1CCEF<>0EGG>11EFDGGD1:C@:FDGGE@GCGC1=FF11E1:C>EF>C:1\n"
     ]
    }
   ],
   "source": [
    "%%bash \n",
    "\n",
    "zcat ../FASTQs/B/B_HiC_rep1_subset_chr3_1.fastq.gz | head -n 8"
   ]
  },
  {
   "cell_type": "markdown",
   "metadata": {},
   "source": [
    "Knowing that each read occupies 4 lines of the FASTQ file we can count the number of initial reads:"
   ]
  },
  {
   "cell_type": "code",
   "execution_count": 4,
   "metadata": {},
   "outputs": [
    {
     "name": "stdout",
     "output_type": "stream",
     "text": [
      "54666372\n",
      "41641164\n"
     ]
    }
   ],
   "source": [
    "%%bash\n",
    "\n",
    "zcat ../FASTQs/B/B_HiC_rep1_subset_chr3_1.fastq.gz | wc -l\n",
    "zcat ../FASTQs/PSC/PSC_HiC_rep1_subset_chr3_1.fastq.gz | wc -l"
   ]
  },
  {
   "cell_type": "markdown",
   "metadata": {},
   "source": [
    "Dividing the total number of lines by 4 we obtain the number of initial reads; 13666593 reads for B cells and 10410291 for PSC cells."
   ]
  },
  {
   "cell_type": "markdown",
   "metadata": {},
   "source": [
    "### Questions\n",
    "\n",
    "- True or False? In case it is false try to correct the sentence:\n",
    " 1. The number of lines in a .fastq file is always a multiple of 3.\n",
    " 2. The second line for a given read can contain only A, C, G, T, or N characters.\n",
    " 3. The most significant line for a given read is the third.\n",
    " 4. The PHRED score can be easily interpreted face-value.\n",
    "- Would you be confortable to explain to your lab the structure of a .fastq file and how to interpret each of its lines?"
   ]
  },
  {
   "cell_type": "markdown",
   "metadata": {},
   "source": [
    "### References\n",
    "\n",
    "<a name=\"cite-ralph\"/><sup>[](#ref-1) </sup>Stadhouders R, Vidal E, Serra F, Di Stefano B et al. 2018. _Transcription factors orchestrate dynamic interplay between genome topology and gene regulation during cell reprogramming_."
   ]
  },
  {
   "cell_type": "code",
   "execution_count": null,
   "metadata": {},
   "outputs": [],
   "source": []
  }
 ],
 "metadata": {
  "hide_input": false,
  "kernelspec": {
   "display_name": "Python 3 (ipykernel)",
   "language": "python",
   "name": "python3"
  },
  "language_info": {
   "codemirror_mode": {
    "name": "ipython",
    "version": 3
   },
   "file_extension": ".py",
   "mimetype": "text/x-python",
   "name": "python",
   "nbconvert_exporter": "python",
   "pygments_lexer": "ipython3",
   "version": "3.7.10"
  },
  "toc": {
   "base_numbering": 1,
   "nav_menu": {},
   "number_sections": false,
   "sideBar": true,
   "skip_h1_title": false,
   "title_cell": "Table of Contents",
   "title_sidebar": "Contents",
   "toc_cell": false,
   "toc_position": {},
   "toc_section_display": "block",
   "toc_window_display": true
  }
 },
 "nbformat": 4,
 "nbformat_minor": 1
}
