{
 "cells": [
  {
   "cell_type": "markdown",
   "id": "c8fffc4c",
   "metadata": {},
   "source": [
    "## *Mus musculus*'s reference genome sequence"
   ]
  },
  {
   "cell_type": "markdown",
   "id": "6310d992",
   "metadata": {},
   "source": [
    "__running time__: < 2 min"
   ]
  },
  {
   "cell_type": "markdown",
   "id": "a550bac5",
   "metadata": {},
   "source": [
    "We will map the Hi-C reads to the GRCm39/mm39 (https://genome.ucsc.edu/goldenPath/releaseLog.html#mm39) assembled reference genome which can be downloaded frm https://hgdownload.soe.ucsc.edu/goldenPath/mm39/bigZips/\n",
    "\n",
    "Having subsampled our FASTQ files to contain only reads from Chromosome 3 (chr3) we can also used a reduced reference genome containing only chr3. To extract chr3 we used `samtools faidx`. \n",
    "\n",
    "The resulting fasta file can be found in the _refGenome_ folder:"
   ]
  },
  {
   "cell_type": "code",
   "execution_count": null,
   "id": "574a8816",
   "metadata": {},
   "outputs": [],
   "source": [
    "%%bash\n",
    "\n",
    "ls ../refGenome"
   ]
  },
  {
   "cell_type": "markdown",
   "id": "1ce59081",
   "metadata": {},
   "source": [
    "## Creation of an index file for GEM mapper"
   ]
  },
  {
   "cell_type": "markdown",
   "id": "c1a285d4",
   "metadata": {},
   "source": [
    "Indexing a genome is very similar to indexing a book. When you read a book and you want to know on which page a chapter begins, it is much faster to look it up in a pre-built index than going through every page of the book until you found it. Same goes for alignments: if you want to find the location of a specific sequence, it is much more efficient to look it in an index than to scan each time the entire genome. Indices allow the aligner to narrow down the potential origin of a query sequence within the genome, saving both time and memory. To know more the idea of indexing, you may have a look at Ben Langmeads youtube channel (creator of the bowtie and bowtie2 alignment software) (https://www.youtube.com/user/BenLangmead).\n",
    "\n",
    "TADbit supports three different mappers: [GEM](#cite-gem), [bowtie2](#cite-bowtie2), and [hisat2](#cite-hisat2).\n",
    "\n",
    "For the course we will use the GEM version 3 mapper which is the default in TADbit.\n",
    "\n",
    "Every mapper uses its own indexed file to efficiently map in terms of time and accuracy the FASTQ file. GEM index file is generated using the `gem-indexer`command:  "
   ]
  },
  {
   "cell_type": "code",
   "execution_count": null,
   "id": "9544d086",
   "metadata": {},
   "outputs": [],
   "source": [
    "%%bash\n",
    "\n",
    "gem-indexer --input ../refGenome/mm39_chr3.fa --output ../refGenome/mm39_chr3"
   ]
  },
  {
   "cell_type": "markdown",
   "id": "20314f4d",
   "metadata": {},
   "source": [
    "We should obtain a .gem file in the _refGenome_ folder:"
   ]
  },
  {
   "cell_type": "code",
   "execution_count": 1,
   "id": "1a80f413",
   "metadata": {},
   "outputs": [
    {
     "name": "stdout",
     "output_type": "stream",
     "text": [
      "genmap\n",
      "mm39_chr3.fa\n",
      "mm39_chr3.gem\n",
      "mm39_chr3.info\n"
     ]
    }
   ],
   "source": [
    "%%bash\n",
    "\n",
    "ls ../refGenome/"
   ]
  },
  {
   "cell_type": "markdown",
   "id": "e21087be",
   "metadata": {},
   "source": [
    "### Questions\n",
    "\n",
    "- Do you need to create a new index file per each Hi-C sample you analyse for mouse cells? \n",
    "- Is the index of the mouse genome different from human?"
   ]
  },
  {
   "cell_type": "markdown",
   "id": "93b24e67",
   "metadata": {},
   "source": [
    "### References\n",
    "\n",
    "<a name=\"cite-gem\"/><sup>[^GEM](#ref-1) </sup>Marco-Sola, S., Sammeth, M., Guigó, R. et al. The GEM mapper: fast, accurate and versatile alignment by filtration. Nat Methods 9, 1185–1188 (2012). https://doi.org/10.1038/nmeth.2221\n",
    "\n",
    "<a name=\"cite-bowtie2\"/><sup>[^Bowtie2](#ref-2) </sup>Langmead, B., Salzberg, S. Fast gapped-read alignment with Bowtie 2. Nat Methods 9, 357–359 (2012). https://doi.org/10.1038/nmeth.1923\n",
    "\n",
    "<a name=\"cite-hisat2\"/><sup>[^Hisat2](#ref-3) </sup>Yun Zhang, Chanhee Park, Christopher Bennett, Micah Thornton and Daehwan Kim. Rapid and accurate alignment of nucleotide conversion sequencing reads with HISAT-3N"
   ]
  },
  {
   "cell_type": "code",
   "execution_count": null,
   "id": "34eeb2e4",
   "metadata": {},
   "outputs": [],
   "source": []
  }
 ],
 "metadata": {
  "kernelspec": {
   "display_name": "Python 3 (ipykernel)",
   "language": "python",
   "name": "python3"
  },
  "language_info": {
   "codemirror_mode": {
    "name": "ipython",
    "version": 3
   },
   "file_extension": ".py",
   "mimetype": "text/x-python",
   "name": "python",
   "nbconvert_exporter": "python",
   "pygments_lexer": "ipython3",
   "version": "3.7.10"
  }
 },
 "nbformat": 4,
 "nbformat_minor": 5
}
