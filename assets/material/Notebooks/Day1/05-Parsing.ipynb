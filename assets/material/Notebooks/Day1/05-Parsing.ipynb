{
 "cells": [
  {
   "cell_type": "markdown",
   "metadata": {},
   "source": [
    "## Parse the mapped read-ends"
   ]
  },
  {
   "cell_type": "markdown",
   "metadata": {},
   "source": [
    "__running time__: < 5 min\n",
    "\n",
    "In this step of the pipeline we read each mapped read-end in the map files and extract the ones that are uniquely mapped.\n",
    "\n",
    "For this step we use the `tadbit parse` tool and the fasta file used to generate the GEM index:"
   ]
  },
  {
   "cell_type": "code",
   "execution_count": 1,
   "metadata": {},
   "outputs": [
    {
     "name": "stdout",
     "output_type": "stream",
     "text": [
      "Writing log to ../results/PSC_rep1/process.log\n",
      "Parsing chr3\n",
      "saving genome in cache\n",
      "Searching and mapping RE sites to the reference genome\n",
      "Found 391730 RE sites\n",
      "Loading read1\n",
      "loading file: ../results/PSC_rep1/01_mapped_r1/PSC_HiC_rep1_subset_chr3_1_frag_1-end_e06c0841c2.map\n",
      "loading file: ../results/PSC_rep1/01_mapped_r1/PSC_HiC_rep1_subset_chr3_1_full_1-end_e06c0841c2.map\n",
      "Merge sort...........\n",
      "Getting Multiple contacts\n",
      "Loading read2\n",
      "loading file: ../results/PSC_rep1/01_mapped_r2/PSC_HiC_rep1_subset_chr3_2_frag_1-end_dbbd3e8e31.map\n",
      "loading file: ../results/PSC_rep1/01_mapped_r2/PSC_HiC_rep1_subset_chr3_2_full_1-end_dbbd3e8e31.map\n",
      "Merge sort...........\n",
      "Getting Multiple contacts\n",
      ",-------.\n",
      "| PATHs |\n",
      ",----.-------.-------------------------------------------------------------------.--------------.\n",
      "| Id | JOBid |                                                              Path |         Type |\n",
      "|----+-------+-------------------------------------------------------------------+--------------|\n",
      "|  1 |     1 |                          /home/3DAROC21/3DAROC21/results/PSC_rep1 |      WORKDIR |\n",
      "|  2 |     1 |              ../../FASTQs/PSC/PSC_HiC_rep1_subset_chr3_1.fastq.gz | MAPPED_FASTQ |\n",
      "|  3 |     1 |                                     ../../refGenome/mm39_chr3.gem |        INDEX |\n",
      "|  4 |     1 |           PSC_HiC_rep1_subset_chr3_1.fastq.gz_MboI_6389769ac5.png |       FIGURE |\n",
      "|  5 |     2 |           PSC_HiC_rep1_subset_chr3_1.fastq.gz_MboI_e06c0841c2.png |       FIGURE |\n",
      "|  6 |     2 | 01_mapped_r1/PSC_HiC_rep1_subset_chr3_1_full_1-end_e06c0841c2.map |      SAM/MAP |\n",
      "|  7 |     2 | 01_mapped_r1/PSC_HiC_rep1_subset_chr3_1_frag_1-end_e06c0841c2.map |      SAM/MAP |\n",
      "|  8 |     3 |              ../../FASTQs/PSC/PSC_HiC_rep1_subset_chr3_2.fastq.gz | MAPPED_FASTQ |\n",
      "|  9 |     3 |           PSC_HiC_rep1_subset_chr3_2.fastq.gz_MboI_dbbd3e8e31.png |       FIGURE |\n",
      "| 10 |     3 | 01_mapped_r2/PSC_HiC_rep1_subset_chr3_2_full_1-end_dbbd3e8e31.map |      SAM/MAP |\n",
      "| 11 |     3 | 01_mapped_r2/PSC_HiC_rep1_subset_chr3_2_frag_1-end_dbbd3e8e31.map |      SAM/MAP |\n",
      "| 12 |     4 |                        02_parsed_reads/PSC_rep1_r1_ff973af7de.tsv |          BED |\n",
      "| 13 |     4 |                                      ../../refGenome/mm39_chr3.fa |        FASTA |\n",
      "| 14 |     4 |                        02_parsed_reads/PSC_rep1_r2_ff973af7de.tsv |          BED |\n",
      "'----^-------^-------------------------------------------------------------------^--------------'\n",
      ",----------------.\n",
      "| MAPPED_OUTPUTs |\n",
      ",----.--------.-------.-----------------.\n",
      "| Id | PATHid | BEDid | Uniquely_mapped |\n",
      "|----+--------+-------+-----------------|\n",
      "|  1 |      7 |    12 |       1,535,674 |\n",
      "|  2 |      6 |    12 |       9,331,696 |\n",
      "|  3 |     11 |    14 |       1,546,145 |\n",
      "|  4 |     10 |    14 |       9,323,263 |\n",
      "'----^--------^-------^-----------------'\n",
      ",----------------.\n",
      "| PARSED_OUTPUTs |\n",
      ",----.--------.-----------------------.---------------.\n",
      "| Id | PATHid | Total_uniquely_mapped |     Multiples |\n",
      "|----+--------+-----------------------+---------------|\n",
      "|  1 |     12 |            10,867,370 | 1:491280,2:19 |\n",
      "|  2 |     14 |            10,869,408 | 1:494699,2:17 |\n",
      "'----^--------^-----------------------^---------------'\n",
      ",------.\n",
      "| JOBs |\n",
      ",----.----------------------------------------------------------------------------------------------------------------------------------------------------------------------------.---------------------.---------------------.-------.----------------.\n",
      "| Id |                                                                                                                                                                 Parameters |         Launch_time |         Finish_time |  Type | Parameters_md5 |\n",
      "|----+----------------------------------------------------------------------------------------------------------------------------------------------------------------------------+---------------------+---------------------+-------+----------------|\n",
      "|  1 | skip_mapping:1 read:1 chr_name:[] noX:0 fast_fragment:0 cpus:6 mapper:gem mapper_binary:/home/3DAROC21/miniconda2/envs/tadbit/bin/gem-mapper mapper_param:{} gem_version:3 | 04/10/2021 14:01:11 | 04/10/2021 14:01:15 |   Map |     6389769ac5 |\n",
      "|  2 | skip_mapping:0 read:1 chr_name:[] noX:0 fast_fragment:0 cpus:6 mapper:gem mapper_binary:/home/3DAROC21/miniconda2/envs/tadbit/bin/gem-mapper mapper_param:{} gem_version:3 | 04/10/2021 14:03:07 | 04/10/2021 14:07:50 |   Map |     e06c0841c2 |\n",
      "|  3 | skip_mapping:0 read:2 chr_name:[] noX:0 fast_fragment:0 cpus:6 mapper:gem mapper_binary:/home/3DAROC21/miniconda2/envs/tadbit/bin/gem-mapper mapper_param:{} gem_version:3 | 04/10/2021 14:07:52 | 04/10/2021 14:12:15 |   Map |     dbbd3e8e31 |\n",
      "|  4 |                             type:map filter_chrom:^(chr)?[A-Za-z]?[0-9]{0,3}[XVI]{0,3}(?:ito)?[A-Z-a-z]?(_dna)?$ compress_input:0 genome:[../refGenome/mm39_chr3.fa] noX:0 | 04/10/2021 14:13:58 | 04/10/2021 14:17:07 | Parse |     ff973af7de |\n",
      "'----^----------------------------------------------------------------------------------------------------------------------------------------------------------------------------^---------------------^---------------------^-------^----------------'\n"
     ]
    },
    {
     "name": "stderr",
     "output_type": "stream",
     "text": [
      "Writing versions of TADbit and dependencies\n",
      "parsing genomic sequence\n",
      "parsing reads in PSC_rep1 project\n"
     ]
    }
   ],
   "source": [
    "%%bash\n",
    "\n",
    "tadbit parse -w ../results/PSC_rep1 --genome ../refGenome/mm39_chr3.fa"
   ]
  },
  {
   "cell_type": "markdown",
   "metadata": {},
   "source": [
    "The output of the tool gives us some statistics of uniquely mapped reads on each read-end and the number of times that due to the split of the fragment-based strategy we are able to find multiple parts of the genome in a initial sequenced read."
   ]
  },
  {
   "cell_type": "code",
   "execution_count": 2,
   "metadata": {},
   "outputs": [
    {
     "name": "stdout",
     "output_type": "stream",
     "text": [
      ",----------------.\n",
      "| PARSED_OUTPUTs |\n",
      ",----.--------.-----------------------.---------------.\n",
      "| Id | PATHid | Total_uniquely_mapped |     Multiples |\n",
      "|----+--------+-----------------------+---------------|\n",
      "|  1 |     12 |            10,867,370 | 1:491280,2:19 |\n",
      "|  2 |     14 |            10,869,408 | 1:494699,2:17 |\n",
      "'----^--------^-----------------------^---------------'\n"
     ]
    }
   ],
   "source": [
    "%%bash\n",
    "\n",
    "tadbit describe -w ../results/PSC_rep1 -t 5"
   ]
  },
  {
   "cell_type": "markdown",
   "metadata": {},
   "source": [
    "The result of the command is stored in two separate tab-separated-values (tsv) files in the working directory under the `02_parsed_reads` subfolder that will contain the essential information of each read-end:"
   ]
  },
  {
   "cell_type": "code",
   "execution_count": 3,
   "metadata": {},
   "outputs": [
    {
     "name": "stdout",
     "output_type": "stream",
     "text": [
      "PSC_rep1_r1_ff973af7de.tsv\n",
      "PSC_rep1_r2_ff973af7de.tsv\n"
     ]
    }
   ],
   "source": [
    "%%bash\n",
    "\n",
    "ls ../results/PSC_rep1/02_parsed_reads/"
   ]
  },
  {
   "cell_type": "code",
   "execution_count": 4,
   "metadata": {},
   "outputs": [
    {
     "name": "stdout",
     "output_type": "stream",
     "text": [
      "# Chromosome lengths (order matters):\n",
      "# CRM chr3\t159745316\n",
      "# Mapped\treads count by iteration\n",
      "# MAPPED 1 1535674\n",
      "# MAPPED 2 9331696\n",
      "SRR5344969.sra.100\tchr3\t132766027\t1\t75\t132765971\t132766190\n",
      "SRR5344969.sra.100000059\tchr3\t49132935\t0\t75\t49132861\t49133024\n",
      "SRR5344969.sra.100000088\tchr3\t151540391\t1\t75\t151539956\t151540546\n",
      "SRR5344969.sra.100000099\tchr3\t120434307\t1\t75\t120433512\t120434337\n",
      "SRR5344969.sra.100000104\tchr3\t109140190\t0\t75\t109139933\t109140375\n"
     ]
    }
   ],
   "source": [
    "%%bash\n",
    "\n",
    "head ../results/PSC_rep1/02_parsed_reads/PSC_rep1_r1_ff973af7de.tsv"
   ]
  },
  {
   "cell_type": "code",
   "execution_count": 5,
   "metadata": {},
   "outputs": [
    {
     "name": "stdout",
     "output_type": "stream",
     "text": [
      "01_mapped_r1\n",
      "01_mapped_r2\n",
      "02_parsed_reads\n",
      "PSC_HiC_rep1_subset_chr3_1.fastq.gz_MboI_6389769ac5.png\n",
      "PSC_HiC_rep1_subset_chr3_1.fastq.gz_MboI_e06c0841c2.png\n",
      "PSC_HiC_rep1_subset_chr3_2.fastq.gz_MboI_dbbd3e8e31.png\n",
      "TADbit_and_dependencies_versions.log\n",
      "process.log\n",
      "trace.db\n",
      "trace.log\n"
     ]
    }
   ],
   "source": [
    "%%bash\n",
    "\n",
    "ls ../results/PSC_rep1/"
   ]
  },
  {
   "cell_type": "code",
   "execution_count": 6,
   "metadata": {},
   "outputs": [
    {
     "name": "stdout",
     "output_type": "stream",
     "text": [
      ",-------.\n",
      "| PATHs |\n",
      ",----.-------.-------------------------------------------------------------------.--------------.\n",
      "| Id | JOBid |                                                              Path |         Type |\n",
      "|----+-------+-------------------------------------------------------------------+--------------|\n",
      "|  1 |     1 |                          /home/3DAROC21/3DAROC21/results/PSC_rep1 |      WORKDIR |\n",
      "|  2 |     1 |              ../../FASTQs/PSC/PSC_HiC_rep1_subset_chr3_1.fastq.gz | MAPPED_FASTQ |\n",
      "|  3 |     1 |                                     ../../refGenome/mm39_chr3.gem |        INDEX |\n",
      "|  4 |     1 |           PSC_HiC_rep1_subset_chr3_1.fastq.gz_MboI_6389769ac5.png |       FIGURE |\n",
      "|  5 |     2 |           PSC_HiC_rep1_subset_chr3_1.fastq.gz_MboI_e06c0841c2.png |       FIGURE |\n",
      "|  6 |     2 | 01_mapped_r1/PSC_HiC_rep1_subset_chr3_1_full_1-end_e06c0841c2.map |      SAM/MAP |\n",
      "|  7 |     2 | 01_mapped_r1/PSC_HiC_rep1_subset_chr3_1_frag_1-end_e06c0841c2.map |      SAM/MAP |\n",
      "|  8 |     3 |              ../../FASTQs/PSC/PSC_HiC_rep1_subset_chr3_2.fastq.gz | MAPPED_FASTQ |\n",
      "|  9 |     3 |           PSC_HiC_rep1_subset_chr3_2.fastq.gz_MboI_dbbd3e8e31.png |       FIGURE |\n",
      "| 10 |     3 | 01_mapped_r2/PSC_HiC_rep1_subset_chr3_2_full_1-end_dbbd3e8e31.map |      SAM/MAP |\n",
      "| 11 |     3 | 01_mapped_r2/PSC_HiC_rep1_subset_chr3_2_frag_1-end_dbbd3e8e31.map |      SAM/MAP |\n",
      "| 12 |     4 |                        02_parsed_reads/PSC_rep1_r1_ff973af7de.tsv |          BED |\n",
      "| 13 |     4 |                                      ../../refGenome/mm39_chr3.fa |        FASTA |\n",
      "| 14 |     4 |                        02_parsed_reads/PSC_rep1_r2_ff973af7de.tsv |          BED |\n",
      "'----^-------^-------------------------------------------------------------------^--------------'\n",
      ",------.\n",
      "| JOBs |\n",
      ",----.----------------------------------------------------------------------------------------------------------------------------------------------------------------------------.---------------------.---------------------.-------.----------------.\n",
      "| Id |                                                                                                                                                                 Parameters |         Launch_time |         Finish_time |  Type | Parameters_md5 |\n",
      "|----+----------------------------------------------------------------------------------------------------------------------------------------------------------------------------+---------------------+---------------------+-------+----------------|\n",
      "|  1 | skip_mapping:1 read:1 chr_name:[] noX:0 fast_fragment:0 cpus:6 mapper:gem mapper_binary:/home/3DAROC21/miniconda2/envs/tadbit/bin/gem-mapper mapper_param:{} gem_version:3 | 04/10/2021 14:01:11 | 04/10/2021 14:01:15 |   Map |     6389769ac5 |\n",
      "|  2 | skip_mapping:0 read:1 chr_name:[] noX:0 fast_fragment:0 cpus:6 mapper:gem mapper_binary:/home/3DAROC21/miniconda2/envs/tadbit/bin/gem-mapper mapper_param:{} gem_version:3 | 04/10/2021 14:03:07 | 04/10/2021 14:07:50 |   Map |     e06c0841c2 |\n",
      "|  3 | skip_mapping:0 read:2 chr_name:[] noX:0 fast_fragment:0 cpus:6 mapper:gem mapper_binary:/home/3DAROC21/miniconda2/envs/tadbit/bin/gem-mapper mapper_param:{} gem_version:3 | 04/10/2021 14:07:52 | 04/10/2021 14:12:15 |   Map |     dbbd3e8e31 |\n",
      "|  4 |                             type:map filter_chrom:^(chr)?[A-Za-z]?[0-9]{0,3}[XVI]{0,3}(?:ito)?[A-Z-a-z]?(_dna)?$ compress_input:0 genome:[../refGenome/mm39_chr3.fa] noX:0 | 04/10/2021 14:13:58 | 04/10/2021 14:17:07 | Parse |     ff973af7de |\n",
      "'----^----------------------------------------------------------------------------------------------------------------------------------------------------------------------------^---------------------^---------------------^-------^----------------'\n",
      ",---------------.\n",
      "| MAPPED_INPUTs |\n",
      ",----.--------.------------.------.------.------.--------.---------------.-------------------.----------.-----------------.---------.\n",
      "| Id | PATHid |    Entries | Trim | Frag | Read | Enzyme | Dangling_Ends |    Ligation_Sites | WRKDIRid | MAPPED_OUTPUTid | INDEXid |\n",
      "|----+--------+------------+------+------+------+--------+---------------+-------------------+----------+-----------------+---------|\n",
      "|  1 |      2 | 10,410,291 | None | full |    1 |   MboI |   MboI:1.340% | MboI-MboI:35.204% |        1 |               6 |       3 |\n",
      "|  2 |      2 |  1,078,595 | None | frag |    1 |   MboI |   MboI:1.340% | MboI-MboI:35.204% |        1 |               7 |       3 |\n",
      "|  3 |      8 | 10,410,291 | None | full |    2 |   MboI |   MboI:1.434% | MboI-MboI:35.818% |        1 |              10 |       3 |\n",
      "|  4 |      8 |  1,087,028 | None | frag |    2 |   MboI |   MboI:1.434% | MboI-MboI:35.818% |        1 |              11 |       3 |\n",
      "'----^--------^------------^------^------^------^--------^---------------^-------------------^----------^-----------------^---------'\n",
      ",----------------.\n",
      "| MAPPED_OUTPUTs |\n",
      ",----.--------.-------.-----------------.\n",
      "| Id | PATHid | BEDid | Uniquely_mapped |\n",
      "|----+--------+-------+-----------------|\n",
      "|  1 |      7 |    12 |       1,535,674 |\n",
      "|  2 |      6 |    12 |       9,331,696 |\n",
      "|  3 |     11 |    14 |       1,546,145 |\n",
      "|  4 |     10 |    14 |       9,323,263 |\n",
      "'----^--------^-------^-----------------'\n",
      ",----------------.\n",
      "| PARSED_OUTPUTs |\n",
      ",----.--------.-----------------------.---------------.\n",
      "| Id | PATHid | Total_uniquely_mapped |     Multiples |\n",
      "|----+--------+-----------------------+---------------|\n",
      "|  1 |     12 |            10,867,370 | 1:491280,2:19 |\n",
      "|  2 |     14 |            10,869,408 | 1:494699,2:17 |\n",
      "'----^--------^-----------------------^---------------'\n"
     ]
    }
   ],
   "source": [
    "%%bash\n",
    "\n",
    "tadbit describe -w ../results/PSC_rep1/"
   ]
  },
  {
   "cell_type": "markdown",
   "metadata": {},
   "source": [
    "Each tsv file contains:\n",
    "\n",
    "1. Extended sequence identifier of the read. The extended identifier coincides with the identifier in the FASTQ file if the sequence maps to a single region of the genome. As a result of the fragment based mapping strategy it could be that a sequence in the FASTQ file is split and each part maps to a different region of the genome. In those cases the extended identifier is composed by the original identifier and a running number that distinguishes each split fragment.\n",
    "2. Chromosome.\n",
    "3. Start position of the mapped read.\n",
    "4. Strand\n",
    "5. Length of the sequence\n",
    "6. Position of the left flanking restriction enzyme site\n",
    "7. Position of the right flanking restriction enzyme site\n",
    "\n",
    "  \n",
    "This information will be used to filter the reads and, finally, to construct the interaction matrix."
   ]
  },
  {
   "cell_type": "markdown",
   "metadata": {},
   "source": [
    "### Questions\n",
    "\n",
    "- Is the parsing step of the Hi-C pipeline removing spurious reads from experimental errors?\n",
    "- Could one re-obtain the initial .fastq file from the .tsv files obtained after parsing?\n",
    "- Would you be confortable to describe to a collegue the parsing step of the pipeline?"
   ]
  }
 ],
 "metadata": {
  "hide_input": false,
  "kernelspec": {
   "display_name": "Python 3 (ipykernel)",
   "language": "python",
   "name": "python3"
  },
  "language_info": {
   "codemirror_mode": {
    "name": "ipython",
    "version": 3
   },
   "file_extension": ".py",
   "mimetype": "text/x-python",
   "name": "python",
   "nbconvert_exporter": "python",
   "pygments_lexer": "ipython3",
   "version": "3.7.10"
  },
  "toc": {
   "base_numbering": 1,
   "nav_menu": {},
   "number_sections": false,
   "sideBar": true,
   "skip_h1_title": false,
   "title_cell": "Table of Contents",
   "title_sidebar": "Contents",
   "toc_cell": false,
   "toc_position": {
    "height": "968.264px",
    "left": "0px",
    "right": "1326.89px",
    "top": "109.722px",
    "width": "206px"
   },
   "toc_section_display": "block",
   "toc_window_display": true
  }
 },
 "nbformat": 4,
 "nbformat_minor": 1
}
